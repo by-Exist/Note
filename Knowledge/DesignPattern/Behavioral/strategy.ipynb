{
 "cells": [
  {
   "cell_type": "markdown",
   "metadata": {},
   "source": [
    "# Strategy (전략)\n",
    "\n",
    "    동작을 트리거하는 객체가 수행하는 객체 하나를 선택하여 사용"
   ]
  },
  {
   "cell_type": "markdown",
   "metadata": {},
   "source": [
    "## 정의\n",
    "\n",
    "일련의 알고리즘을 정의하고 각 알고리즘을 별도의 클래스에 넣어 해당 개체를 교환할 수 있도록 하는 패턴.\n",
    "\n",
    "즉, a는 b를 has할 수 있고 a.x()가 b에게 요청을 위임할 때 클라이언트(또는 로직)은 b 객체를 교체해가며 사용할 수 있다. 해당 구조(동작 수행 위임)는 여러 패턴에 등장하는데, 비슷하다고 해도 '해결하려는 문제가 무엇인가?'에 대한 해답이 모두 다르다.\n",
    "\n",
    "'어디서 어디로 가는 시간을 계산'하는 동작이 있을 때, 자전거로, 차로, 걸어서, 비행기로 등의 요청을 수행하는 '알고리즘'이 다를 수 있다. 어느 한 알고리즘을 선택해 수행하도록 구조화하는 패턴이다.\n",
    "\n",
    "그러나, 클라이언트가 어떤 전략을 수행해야 하는지 알고 있어야 한다는 점, 전략이 몇 가지 없다면 굳이 전략 계층을 도입해야 할 필요가 있나 싶은 점, 함수형 프로그래밍 언어일 때에는 람다 함수만으로도 충분할 수 있다는 점 등을 들어 복잡도를 낮추는 경우에만 사용하는 것이 좋을 듯 하다."
   ]
  },
  {
   "cell_type": "markdown",
   "metadata": {},
   "source": [
    "## 구현"
   ]
  },
  {
   "cell_type": "code",
   "execution_count": 6,
   "metadata": {},
   "outputs": [
    {
     "name": "stdout",
     "output_type": "stream",
     "text": [
      "[1, 2, 3, 4, 5]\n",
      "[2, 4, 3, 1, 5]\n"
     ]
    }
   ],
   "source": [
    "class Context:\n",
    "\n",
    "    def __init__(self, data: list):\n",
    "        self.strategy: Strategy = None\n",
    "        self.data = data\n",
    "\n",
    "    def do_something(self):\n",
    "        return self.strategy.execute(self.data)\n",
    "\n",
    "\n",
    "class Strategy:\n",
    "\n",
    "    def execute(self, data):\n",
    "        ...\n",
    "\n",
    "\n",
    "class SortedStrategy(Strategy):\n",
    "\n",
    "    def execute(self, data):\n",
    "        return sorted(data)\n",
    "\n",
    "\n",
    "class ReverseStrategy(Strategy):\n",
    "    \n",
    "    def execute(self, data):\n",
    "        return [*reversed(data)]\n",
    "\n",
    "\n",
    "if __name__ == \"__main__\":\n",
    "    \n",
    "    context = Context(data=[5, 1, 3, 4, 2])\n",
    "\n",
    "    sorted_strategy = SortedStrategy()\n",
    "    reverse_strategy = ReverseStrategy()\n",
    "\n",
    "    context.strategy = sorted_strategy\n",
    "    print(context.do_something())\n",
    "\n",
    "    context.strategy = reverse_strategy\n",
    "    print(context.do_something())"
   ]
  }
 ],
 "metadata": {
  "interpreter": {
   "hash": "c2628c66a632ba2b69e6a5b3a4dad634af81f317f443884fc2584f16d8e329ae"
  },
  "kernelspec": {
   "display_name": "Python 3.9.6 64-bit ('fastapi': conda)",
   "language": "python",
   "name": "python3"
  },
  "language_info": {
   "codemirror_mode": {
    "name": "ipython",
    "version": 3
   },
   "file_extension": ".py",
   "mimetype": "text/x-python",
   "name": "python",
   "nbconvert_exporter": "python",
   "pygments_lexer": "ipython3",
   "version": "3.9.6"
  },
  "orig_nbformat": 4
 },
 "nbformat": 4,
 "nbformat_minor": 2
}
