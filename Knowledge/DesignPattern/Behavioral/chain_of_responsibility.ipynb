{
 "cells": [
  {
   "cell_type": "markdown",
   "metadata": {},
   "source": [
    "# Chain of Responsibility (책임 사슬)\n",
    "\n",
    "    내가 할 수 있으면 하고, 못 한다면 다음번 녀석한테 넘기고"
   ]
  },
  {
   "cell_type": "markdown",
   "metadata": {},
   "source": [
    "## 정의\n",
    "\n",
    "일련의 핸들러를 따라 요청을 전달할 수 있는 패턴.\n",
    "\n",
    "데코레이터 패턴과 구조가 거의 동일하다. 차이점이 있다면 데코레이터는 마트료시카의 가장 안쪽까지 도달해야 하지만 책임 사슬은 연결 중간에서 처리될 수 있다는 점이 차이이다.\n",
    "\n",
    "별로 어려운 점이 없어 코드로 대신한다."
   ]
  },
  {
   "cell_type": "markdown",
   "metadata": {},
   "source": [
    "## 구현"
   ]
  },
  {
   "cell_type": "code",
   "execution_count": 6,
   "metadata": {},
   "outputs": [
    {
     "name": "stdout",
     "output_type": "stream",
     "text": [
      "Dog: eat!\n",
      "Squirrel: eat!\n",
      "Monkey: eat!\n"
     ]
    }
   ],
   "source": [
    "from __future__ import annotations\n",
    "\n",
    "\n",
    "class Animal:\n",
    "\n",
    "    def __init__(self, next: Animal = None):\n",
    "        self.next = next\n",
    "    \n",
    "    def handle(self, food: str) -> str | None:\n",
    "        raise NotImplementedError()\n",
    "\n",
    "\n",
    "class Monkey(Animal):\n",
    "\n",
    "    def handle(self, food: str) -> str | None:\n",
    "        if food.lower() == \"banana\":\n",
    "            return \"Monkey: eat!\"\n",
    "        if not self.next:\n",
    "            return None\n",
    "        return self.next.handle(food)\n",
    "\n",
    "class Squirrel(Animal):\n",
    "\n",
    "    def handle(self, food: str) -> str | None:\n",
    "        if food.lower() == \"nut\":\n",
    "            return \"Squirrel: eat!\"\n",
    "        if not self.next:\n",
    "            return None\n",
    "        return self.next.handle(food)\n",
    "\n",
    "class Dog(Animal):\n",
    "\n",
    "    def handle(self, food: str) -> str | None:\n",
    "        if food.lower() == \"meatball\":\n",
    "            return \"Dog: eat!\"\n",
    "        if not self.next:\n",
    "            return None\n",
    "        return self.next.handle(food)\n",
    "\n",
    "\n",
    "handler = Monkey(Squirrel(Dog()))\n",
    "\n",
    "foods = [\"meatball\", \"nut\", \"banana\"]\n",
    "for food in foods:\n",
    "    print(handler.handle(food))"
   ]
  }
 ],
 "metadata": {
  "interpreter": {
   "hash": "c2628c66a632ba2b69e6a5b3a4dad634af81f317f443884fc2584f16d8e329ae"
  },
  "kernelspec": {
   "display_name": "Python 3.9.6 64-bit ('fastapi': conda)",
   "language": "python",
   "name": "python3"
  },
  "language_info": {
   "codemirror_mode": {
    "name": "ipython",
    "version": 3
   },
   "file_extension": ".py",
   "mimetype": "text/x-python",
   "name": "python",
   "nbconvert_exporter": "python",
   "pygments_lexer": "ipython3",
   "version": "3.9.6"
  },
  "orig_nbformat": 4
 },
 "nbformat": 4,
 "nbformat_minor": 2
}
