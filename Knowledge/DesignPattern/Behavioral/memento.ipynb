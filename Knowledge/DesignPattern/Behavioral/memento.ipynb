{
 "cells": [
  {
   "cell_type": "markdown",
   "metadata": {},
   "source": [
    "# Memento (Korean)\n",
    "\n",
    "    객체의 변경 내역을 기록하여 복원 기능을 구현"
   ]
  },
  {
   "cell_type": "markdown",
   "metadata": {},
   "source": [
    "## 정의\n",
    "\n",
    "객체의 이전 상태를 저장하고 롤백할 수 있는 패턴.\n",
    "\n",
    "텍스트 편집기의 ctrl + z의 동작 방식, 바둑 시뮬레이터의 복기 등을 예로 들 수 있을 것 같다."
   ]
  },
  {
   "cell_type": "markdown",
   "metadata": {},
   "source": [
    "## 구현"
   ]
  },
  {
   "cell_type": "code",
   "execution_count": 46,
   "metadata": {},
   "outputs": [
    {
     "name": "stdout",
     "output_type": "stream",
     "text": [
      "Originator(제목, 본문)\n",
      "\n",
      "Originator.Snapshot(title='제목', data='본문', create_time=datetime.datetime(2021, 12, 30, 20, 11, 20, 999332))\n",
      "Originator.Snapshot(title='다른 제목', data='본문', create_time=datetime.datetime(2021, 12, 30, 20, 11, 20, 999332))\n",
      "Originator(다른 제목, 다른 본문)\n",
      "\n",
      "Originator(제목, 본문)\n"
     ]
    }
   ],
   "source": [
    "from datetime import datetime\n",
    "from dataclasses import dataclass, field\n",
    "\n",
    "\n",
    "class Originator:\n",
    "\n",
    "    # 메멘토 객체는 불변해야 한다\n",
    "    @dataclass(frozen=True)\n",
    "    class Snapshot:\n",
    "        title: str\n",
    "        data: str\n",
    "        create_time: datetime = field(default_factory=datetime.now)\n",
    "    \n",
    "    def __init__(self, title, data):\n",
    "        self.title = title\n",
    "        self.data = data\n",
    "    \n",
    "    # 메멘토 객체를 생성하고\n",
    "    def create_snapshot(self):\n",
    "        return self.Snapshot(self.title, self.data)\n",
    "    \n",
    "    # 메멘토 객체를 활용해 복원하고\n",
    "    def restore(self, snapshot: Snapshot):\n",
    "        self.title = snapshot.title\n",
    "        self.data = snapshot.data\n",
    "    \n",
    "    def __repr__(self) -> str:\n",
    "        return f\"{type(self).__name__}({self.title}, {self.data})\"\n",
    "\n",
    "\n",
    "# 메멘토 객체들을 관리한다\n",
    "class Caretaker:\n",
    "\n",
    "    def __init__(self, originator: Originator):\n",
    "        self.originator = originator\n",
    "        self.history: list[Originator.Snapshot] = []\n",
    "    \n",
    "    def backup(self):\n",
    "        self.history.append(self.originator.create_snapshot())\n",
    "    \n",
    "    def undo(self):\n",
    "        if not self.history:\n",
    "            return\n",
    "        snapshot = self.history.pop()\n",
    "        self.originator.restore(snapshot)\n",
    "    \n",
    "    def show_history(self):\n",
    "        for snapshot in self.history:\n",
    "            print(snapshot)\n",
    "\n",
    "\n",
    "originator = Originator(\"제목\", \"본문\")\n",
    "print(originator, end=\"\\n\\n\")\n",
    "\n",
    "caretaker = Caretaker(originator)\n",
    "caretaker.backup()\n",
    "originator.title = \"다른 제목\"\n",
    "caretaker.backup()\n",
    "originator.data = \"다른 본문\"\n",
    "caretaker.show_history()\n",
    "print(originator, end=\"\\n\\n\")\n",
    "\n",
    "caretaker.undo()\n",
    "caretaker.undo()\n",
    "print(caretaker.originator)"
   ]
  },
  {
   "cell_type": "code",
   "execution_count": 51,
   "metadata": {},
   "outputs": [
    {
     "name": "stdout",
     "output_type": "stream",
     "text": [
      "Originator(제목, 본문)\n",
      "\n",
      "2021-12-30 20:20:38.590651 / 제목 - 본문\n",
      "2021-12-30 20:20:38.590651 / 다른 제목 - 본문\n",
      "Originator(다른 제목, 다른 본문)\n",
      "\n",
      "Originator(제목, 본문)\n"
     ]
    }
   ],
   "source": [
    "# 커맨드 패턴과 함께 활용\n",
    "from datetime import datetime\n",
    "from dataclasses import dataclass, field\n",
    "\n",
    "\n",
    "class Originator:\n",
    "\n",
    "    # 메멘토 객체를 커맨드 객체로 활용\n",
    "    # (요청에 대한 모든 정보가 포함된 독립 실행형 객체)\n",
    "    @dataclass(frozen=True)\n",
    "    class Snapshot:\n",
    "        originator: Originator\n",
    "        title: str\n",
    "        data: str\n",
    "        create_time: datetime = field(default_factory=datetime.now)\n",
    "\n",
    "        # !\n",
    "        def restore(self):\n",
    "            self.originator.title = self.title\n",
    "            self.originator.data = self.data\n",
    "    \n",
    "    def __init__(self, title, data):\n",
    "        self.title = title\n",
    "        self.data = data\n",
    "    \n",
    "    def create_snapshot(self):\n",
    "        # !\n",
    "        return self.Snapshot(self, self.title, self.data)\n",
    "    \n",
    "    def __repr__(self) -> str:\n",
    "        return f\"{type(self).__name__}({self.title}, {self.data})\"\n",
    "\n",
    "\n",
    "class Caretaker:\n",
    "\n",
    "    def __init__(self, originator: Originator):\n",
    "        self.originator = originator\n",
    "        self.history: list[Originator.Snapshot] = []\n",
    "    \n",
    "    def backup(self):\n",
    "        self.history.append(self.originator.create_snapshot())\n",
    "    \n",
    "    def undo(self):\n",
    "        if not self.history:\n",
    "            return\n",
    "        snapshot = self.history.pop()\n",
    "        # !\n",
    "        snapshot.restore()\n",
    "    \n",
    "    def show_history(self):\n",
    "        for snapshot in self.history:\n",
    "            print(f\"{snapshot.create_time} / {snapshot.title} - {snapshot.data}\")\n",
    "\n",
    "\n",
    "originator = Originator(\"제목\", \"본문\")\n",
    "print(originator, end=\"\\n\\n\")\n",
    "\n",
    "caretaker = Caretaker(originator)\n",
    "caretaker.backup()\n",
    "originator.title = \"다른 제목\"\n",
    "caretaker.backup()\n",
    "originator.data = \"다른 본문\"\n",
    "caretaker.show_history()\n",
    "print(originator, end=\"\\n\\n\")\n",
    "\n",
    "caretaker.undo()\n",
    "caretaker.undo()\n",
    "print(caretaker.originator)"
   ]
  }
 ],
 "metadata": {
  "interpreter": {
   "hash": "c2628c66a632ba2b69e6a5b3a4dad634af81f317f443884fc2584f16d8e329ae"
  },
  "kernelspec": {
   "display_name": "Python 3.9.6 64-bit ('fastapi': conda)",
   "language": "python",
   "name": "python3"
  },
  "language_info": {
   "codemirror_mode": {
    "name": "ipython",
    "version": 3
   },
   "file_extension": ".py",
   "mimetype": "text/x-python",
   "name": "python",
   "nbconvert_exporter": "python",
   "pygments_lexer": "ipython3",
   "version": "3.9.6"
  },
  "orig_nbformat": 4
 },
 "nbformat": 4,
 "nbformat_minor": 2
}
