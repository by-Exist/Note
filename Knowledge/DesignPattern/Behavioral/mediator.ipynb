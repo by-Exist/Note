{
 "cells": [
  {
   "cell_type": "markdown",
   "metadata": {},
   "source": [
    "# Mediator (중재자)\n",
    "\n",
    "    여러 객체들의 의존성을 관제탑처럼 중간에서 중재"
   ]
  },
  {
   "cell_type": "markdown",
   "metadata": {},
   "source": [
    "## 정의\n",
    "\n",
    "객체간의 복잡한 의존성을 중간에서 중재하는 객체를 두어 해결하는 패턴. 중재자와 연결된 객체들은 서로 연락하지 않고 중재자를 통해서면 신호를 주고받는다.\n",
    "\n",
    "MVC에서 View(로직)들과 Controller(GUI)의 관계처럼, 한 객체의 트리거가 여러 객체에게 전파되는 형태가 있을 때 사용된다.\n",
    "\n",
    "Observer 패턴과 매우 유사하지만 목적에 차이가 있다. Observer는 어떠한 요청이 일련의 객체에게 전파되어야 할 때 사용되며, Mediator 패턴은 여러 객체 간의 호출 관계가 거미줄처럼 얽혀 있을 때 사용한다."
   ]
  },
  {
   "cell_type": "markdown",
   "metadata": {},
   "source": [
    "## 구현"
   ]
  },
  {
   "cell_type": "code",
   "execution_count": 12,
   "metadata": {},
   "outputs": [
    {
     "name": "stdout",
     "output_type": "stream",
     "text": [
      "드롭다운 초기 값으로 설정됨\n",
      "버튼의 텍스트가 그까이꺼 대충로 변경됨\n",
      "드롭다운 초기 값으로 설정됨\n"
     ]
    }
   ],
   "source": [
    "from __future__ import annotations\n",
    "\n",
    "\n",
    "# GUI 각 구성품 (요청 트리거)\n",
    "class Component:\n",
    "\n",
    "    # mediator를 has하며\n",
    "    def __init__(self, mediator: Mediator = None):\n",
    "        self.mediator = mediator\n",
    "\n",
    "\n",
    "class Button(Component):\n",
    "\n",
    "    # 요구된 동작을 mediator에게 이벤트로 전달한다.\n",
    "    def click(self):\n",
    "        self.mediator.notify(self, \"click\")\n",
    "    \n",
    "    def change_text(self, text: str):\n",
    "        print(f\"버튼의 텍스트가 {text}로 변경됨\")\n",
    "\n",
    "\n",
    "class Dropdown(Component):\n",
    "\n",
    "    def choice(self):\n",
    "        self.mediator.notify(self, \"dropdown_choice\")\n",
    "    \n",
    "    def reset(self):\n",
    "        print(\"드롭다운 초기 값으로 설정됨\")\n",
    "\n",
    "\n",
    "# 로직 (트리거된 요청 -> has한 여러 객체의 메서드를 대신 호출)\n",
    "class Mediator:\n",
    "\n",
    "    def notify(self, sender, event:str):\n",
    "        ...\n",
    "\n",
    "\n",
    "class Dialogue(Mediator):\n",
    "\n",
    "    # 각 controller를 has하고\n",
    "    def __init__(self, button: Button, dropdown: Dropdown):\n",
    "        self.button = button\n",
    "        self.button.mediator = self\n",
    "        self.dropdown = dropdown\n",
    "        self.dropdown.mediator = self\n",
    "\n",
    "    # 컨트롤러에 의해 트리거될 메서드, 0개 이상의 컨트롤러의 동작을 대리 호출\n",
    "    def notify(self, sender, event: str):\n",
    "        if event == \"click\":\n",
    "            self.dropdown.reset()\n",
    "        elif event == \"dropdown_choice\":\n",
    "            self.button.change_text(\"그까이꺼 대충\")\n",
    "            self.dropdown.reset()\n",
    "\n",
    "\n",
    "if __name__ == \"__main__\":\n",
    "    \n",
    "    button = Button()\n",
    "    dropdown = Dropdown()\n",
    "\n",
    "    mediator = Dialogue(button, dropdown)\n",
    "\n",
    "    button.click()\n",
    "    dropdown.choice()"
   ]
  }
 ],
 "metadata": {
  "interpreter": {
   "hash": "c2628c66a632ba2b69e6a5b3a4dad634af81f317f443884fc2584f16d8e329ae"
  },
  "kernelspec": {
   "display_name": "Python 3.9.6 64-bit ('fastapi': conda)",
   "language": "python",
   "name": "python3"
  },
  "language_info": {
   "codemirror_mode": {
    "name": "ipython",
    "version": 3
   },
   "file_extension": ".py",
   "mimetype": "text/x-python",
   "name": "python",
   "nbconvert_exporter": "python",
   "pygments_lexer": "ipython3",
   "version": "3.9.6"
  },
  "orig_nbformat": 4
 },
 "nbformat": 4,
 "nbformat_minor": 2
}
