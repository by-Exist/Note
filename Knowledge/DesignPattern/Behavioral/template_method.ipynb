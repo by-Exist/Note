{
 "cells": [
  {
   "cell_type": "markdown",
   "metadata": {},
   "source": [
    "# Template Method (템플릿 메서드)\n",
    "\n",
    "    알고리즘의 뼈대만 정의된 메서드의 동작을 서브클래스에서 구현"
   ]
  },
  {
   "cell_type": "markdown",
   "metadata": {},
   "source": [
    "## 정의\n",
    "\n",
    "별 다른 설명이 필요 없는 패턴이다. 어떤 동작을 수행하기 위한 알고리즘에 일련의 단계가 있고, 해당 단계를 슈퍼 클래스에서 정의하되 서브 클래스에서 각 단계를 구현하여 완성하도록 하는 패턴.\n",
    "\n",
    "한편 알고리즘을 슈퍼클래스에 정의하기 때문에 해당 일련의 알고리즘이 변경된다면 모든 서브클래스가 동작을 수정해야 할 수도 있으므로, 알고리즘의 일련의 단계가 고정적이고 바뀔 일이 거의 없다고 생각될 때에 활용할 수 있다.\n",
    "\n",
    "팩토리 메서드와 구조적으로 유사하기도 하지만 팩토리 메서드는 객체 생성에 국한된 패턴이다."
   ]
  },
  {
   "cell_type": "markdown",
   "metadata": {},
   "source": [
    "## 구현"
   ]
  },
  {
   "cell_type": "code",
   "execution_count": 7,
   "metadata": {},
   "outputs": [
    {
     "name": "stdout",
     "output_type": "stream",
     "text": [
      "- Run ConcreteOne's template method\n",
      "Template : operation 1\n",
      "ConcreteOne : required operation 1\n",
      "Template : operation 2\n",
      "ConcreteOne : required operation 2\n",
      "\n",
      "- Run ConcreteTwo's template method\n",
      "Template : operation 1\n",
      "ConcreteOne : required operation 1\n",
      "Template : operation 2\n",
      "ConcreteOne : optional operation 1\n",
      "ConcreteOne : required operation 2\n",
      "ConcreteOne : optional operation 2\n"
     ]
    }
   ],
   "source": [
    "class Template:\n",
    "\n",
    "    def template_method(self):\n",
    "        self.operation_1()\n",
    "        self.required_operation_1()\n",
    "        self.operation_2()\n",
    "        self.optional_operation_1()\n",
    "        self.required_operation_2()\n",
    "        self.optional_operation_2()\n",
    "\n",
    "    def operation_1(self):\n",
    "        print(\"Template : operation 1\")\n",
    "    \n",
    "    def operation_2(self):\n",
    "        print(\"Template : operation 2\")\n",
    "\n",
    "    def required_operation_1(self):\n",
    "        raise NotImplementedError(\"required_operation_1 is not implemented.\")\n",
    "    \n",
    "    def required_operation_2(self):\n",
    "        raise NotImplementedError(\"required_operation_2 is not implemented.\")\n",
    "    \n",
    "    def optional_operation_1(self):\n",
    "        ...\n",
    "\n",
    "    def optional_operation_2(self):\n",
    "        ...\n",
    "\n",
    "\n",
    "class ConcreteOne(Template):\n",
    "    \n",
    "    def required_operation_1(self):\n",
    "        print(\"ConcreteOne : required operation 1\")\n",
    "    \n",
    "    def required_operation_2(self):\n",
    "        print(\"ConcreteOne : required operation 2\")\n",
    "\n",
    "\n",
    "class ConcreteTwo(Template):\n",
    "    \n",
    "    def required_operation_1(self):\n",
    "        print(\"ConcreteOne : required operation 1\")\n",
    "    \n",
    "    def required_operation_2(self):\n",
    "        print(\"ConcreteOne : required operation 2\")\n",
    "\n",
    "    def optional_operation_1(self):\n",
    "        print(\"ConcreteOne : optional operation 1\")\n",
    "    \n",
    "    def optional_operation_2(self):\n",
    "        print(\"ConcreteOne : optional operation 2\")\n",
    "\n",
    "\n",
    "if __name__ == \"__main__\":\n",
    "\n",
    "    print(\"- Run ConcreteOne's template method\")\n",
    "    one = ConcreteOne()\n",
    "    one.template_method()\n",
    "\n",
    "    print()\n",
    "\n",
    "    print(\"- Run ConcreteTwo's template method\")\n",
    "    two = ConcreteTwo()\n",
    "    two.template_method()"
   ]
  }
 ],
 "metadata": {
  "interpreter": {
   "hash": "c2628c66a632ba2b69e6a5b3a4dad634af81f317f443884fc2584f16d8e329ae"
  },
  "kernelspec": {
   "display_name": "Python 3.9.6 64-bit ('fastapi': conda)",
   "language": "python",
   "name": "python3"
  },
  "language_info": {
   "codemirror_mode": {
    "name": "ipython",
    "version": 3
   },
   "file_extension": ".py",
   "mimetype": "text/x-python",
   "name": "python",
   "nbconvert_exporter": "python",
   "pygments_lexer": "ipython3",
   "version": "3.9.6"
  },
  "orig_nbformat": 4
 },
 "nbformat": 4,
 "nbformat_minor": 2
}
