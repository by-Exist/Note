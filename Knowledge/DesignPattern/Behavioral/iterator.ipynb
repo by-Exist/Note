{
 "cells": [
  {
   "cell_type": "markdown",
   "metadata": {},
   "source": [
    "# Iterator (반복자)\n",
    "\n",
    "    컬렉션의 요소를 순회하는 객체를 제공"
   ]
  },
  {
   "cell_type": "markdown",
   "metadata": {},
   "source": [
    "## 정의\n",
    "\n",
    "컬렉션을 직접 노출하지 않고 컬렉션의 요소를 순회할 수 있는 동작을 제공하는 디자인 패턴이다.\n",
    "\n",
    "파이썬은 언어 차원에서 이터레이터 프로토콜을 활용해 이터레이터 객체를 직접 구현할 수 있다.\n",
    "- 이터레이터 객체는 \\__iter__가 호출되면 self를 반환해야 한다.\n",
    "- 이터레이터 객체는 \\__next__가 호출될 때 마다 값을 차례대로 반환해야 하며, 값이 없다면 StopIteration을 raise해야 한다.\n",
    "\n",
    "자세한 구현 방식 및 정보는 [파이썬 표준 라이브러리 - 내장형](https://docs.python.org/ko/3.8/library/stdtypes.html#typeiter)에서 확인할 수 있다. (+ collections.abc 모듈도 살펴보자.)\n",
    "\n",
    "트리에서 여러 가지 순회 방식(전위, 중위, 후위, 레벨 순서)을 제공하고 싶다면 각각의 이터레이터 객체 반환 메서드를 정의할 수 있겠다. (파이썬의 컬렉션은 단일 이터레이터 객체만 반환하도록 되어 있다.)"
   ]
  },
  {
   "cell_type": "markdown",
   "metadata": {},
   "source": [
    "## 구현"
   ]
  },
  {
   "cell_type": "code",
   "execution_count": 4,
   "metadata": {},
   "outputs": [
    {
     "name": "stdout",
     "output_type": "stream",
     "text": [
      "1\n",
      "2\n",
      "3\n",
      "4\n",
      "5\n",
      "1\n",
      "2\n",
      "3\n",
      "4\n",
      "5\n"
     ]
    }
   ],
   "source": [
    "from __future__ import annotations\n",
    "from collections.abc import Iterable, Iterator\n",
    "\n",
    "\n",
    "# Iterable, __iter__가 호출될 때 이터레이터 객체를 반환해야 한다.\n",
    "class Node(Iterable):\n",
    "\n",
    "    def __init__(self, value, next: Node = None):\n",
    "        self.value = value\n",
    "        self.next = next\n",
    "    \n",
    "    def __iter__(self):\n",
    "        return NodeIterator(self)\n",
    "\n",
    "\n",
    "# Iterator\n",
    "class NodeIterator(Iterator):\n",
    "\n",
    "    def __init__(self, cur: Node):\n",
    "        self.cur = cur\n",
    "    \n",
    "    # __iter__ 호출 치 self를 반환해야 한다.\n",
    "    def __iter__(self):\n",
    "        return self\n",
    "    \n",
    "    # __next__ 호출 시 반환할 값이 있으면 return value, 없으면 raise StopIteration\n",
    "    def __next__(self):\n",
    "        if self.cur:\n",
    "            result = self.cur.value\n",
    "            self.cur = self.cur.next\n",
    "            return result\n",
    "        raise StopIteration\n",
    "\n",
    "\n",
    "linked_list = Node(1, Node(2, Node(3, Node(4, Node(5)))))\n",
    "\n",
    "# 자동으로 linked_list.__iter__()를 호출해서 활용됨\n",
    "for e in linked_list:\n",
    "    print(e)\n",
    "\n",
    "linked_list_iterator = iter(linked_list)\n",
    "\n",
    "for e in linked_list_iterator:\n",
    "    print(e)"
   ]
  }
 ],
 "metadata": {
  "interpreter": {
   "hash": "c2628c66a632ba2b69e6a5b3a4dad634af81f317f443884fc2584f16d8e329ae"
  },
  "kernelspec": {
   "display_name": "Python 3.9.6 64-bit ('fastapi': conda)",
   "language": "python",
   "name": "python3"
  },
  "language_info": {
   "codemirror_mode": {
    "name": "ipython",
    "version": 3
   },
   "file_extension": ".py",
   "mimetype": "text/x-python",
   "name": "python",
   "nbconvert_exporter": "python",
   "pygments_lexer": "ipython3",
   "version": "3.9.6"
  },
  "orig_nbformat": 4
 },
 "nbformat": 4,
 "nbformat_minor": 2
}
