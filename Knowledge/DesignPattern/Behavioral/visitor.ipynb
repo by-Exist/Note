{
 "cells": [
  {
   "cell_type": "markdown",
   "metadata": {},
   "source": [
    "# Visitor (방문자)\n",
    "\n",
    "    이미 정의된 객체군의 코드를 건들지 않고도 추가적인 동작을 부여하기가 가능"
   ]
  },
  {
   "cell_type": "markdown",
   "metadata": {},
   "source": [
    "## 정의\n",
    "\n",
    "객체의 구조와 객체에 적용되는 알고리즘을 별도로 분리할 때 사용되는 패턴.\n",
    "\n",
    "흠... 파이썬에서는 필요 없어 보이는 패턴이다. dict에 자료형과 콜러블을 매핑하고서 매번 자료형을 확인하고 콜러블을 호출하면 되기 때문이다.\n",
    "\n",
    "개념상은 이렇다. \"도형의 여러 서브클래스 - 원, 점, 선, 삼각형 - 이 있을 때, 각자가 'draw'라는 동작을 포함하는게 개념 상 올바른가? 추후 json으로 기록되어야 할 때, 각자가 json 메서드를 구현해야 하나? 그럴 바에 도형이 circle.accept(visitor)를 정의하고 visitor.visit_circle(self)를 구현하면, 어떤 비지터를 구현하던 간에 원, 점, 선, 삼각형을 받아서 처리하게 되잖아? (이해를 하고 싶다면 코드를 살펴보기)\n",
    "\n",
    "기존 서브 클래스 군의 코드를 변경하지 않고도(또는 기존 서브 클래스 군은 객체의 구조에만 집중하고) 새로운 동작을 추가할 수 있다는 점이 장점이다. 그러나 도형이 추가될 때 마다 모든 Visitor가 수정되어야 한다는 점과 코드가 조금은 복잡하다는 점이 단점이다.\n",
    "\n",
    "그러나 파이썬에서는\n",
    "- isinstance(shape, ???) if~elif.... 구현한 함수 하나로도 될 것 같은데?\n",
    "- Dict[Shape, Callable] 형태의 딕셔너리 하나로도 될 것 같은데?\n",
    "\n",
    "그러므로 자주 사용될 것 같지 않은 패턴이다."
   ]
  },
  {
   "cell_type": "markdown",
   "metadata": {},
   "source": [
    "## 구현"
   ]
  },
  {
   "cell_type": "code",
   "execution_count": 1,
   "metadata": {},
   "outputs": [
    {
     "name": "stdout",
     "output_type": "stream",
     "text": [
      "○\n",
      "△\n",
      "0\n",
      "3\n"
     ]
    }
   ],
   "source": [
    "from __future__ import annotations\n",
    "\n",
    "\n",
    "class Shape:\n",
    "\n",
    "    def do(self, visitor):\n",
    "        ...\n",
    "\n",
    "\n",
    "class Circle(Shape):\n",
    "\n",
    "    def do(self, visitor: Visitor):\n",
    "        return visitor.visit_circle(self)\n",
    "\n",
    "\n",
    "class Triangle(Shape):\n",
    "\n",
    "    def do(self, visitor: Visitor):\n",
    "        return visitor.visit_triangle(self)\n",
    "\n",
    "\n",
    "class Visitor:\n",
    "\n",
    "    def visit_circle(self, circle: Circle):\n",
    "        ...\n",
    "\n",
    "    def visit_triangle(self, triangle: Triangle):\n",
    "        ...\n",
    "\n",
    "\n",
    "class DrawVisitor(Visitor):\n",
    "\n",
    "    def visit_circle(self, circle: Circle):\n",
    "        return \"○\"\n",
    "    \n",
    "    def visit_triangle(self, triangle: Triangle):\n",
    "        return \"△\"\n",
    "\n",
    "\n",
    "class VertexCountVisitor(Visitor):\n",
    "    \n",
    "    def visit_circle(self, circle: Circle):\n",
    "        return 0\n",
    "    \n",
    "    def visit_triangle(self, triangle: Triangle):\n",
    "        return 3\n",
    "\n",
    "\n",
    "if __name__ == \"__main__\":\n",
    "\n",
    "    shapes: list[Shape] = [Circle(), Triangle()]\n",
    "\n",
    "    draw = DrawVisitor()\n",
    "    for shape in shapes:\n",
    "        print(shape.do(draw))\n",
    "    \n",
    "    count_vertex = VertexCountVisitor()\n",
    "    for shape in shapes:\n",
    "        print(shape.do(count_vertex))"
   ]
  }
 ],
 "metadata": {
  "interpreter": {
   "hash": "c2628c66a632ba2b69e6a5b3a4dad634af81f317f443884fc2584f16d8e329ae"
  },
  "kernelspec": {
   "display_name": "Python 3.9.6 64-bit ('fastapi': conda)",
   "language": "python",
   "name": "python3"
  },
  "language_info": {
   "codemirror_mode": {
    "name": "ipython",
    "version": 3
   },
   "file_extension": ".py",
   "mimetype": "text/x-python",
   "name": "python",
   "nbconvert_exporter": "python",
   "pygments_lexer": "ipython3",
   "version": "3.9.6"
  },
  "orig_nbformat": 4
 },
 "nbformat": 4,
 "nbformat_minor": 2
}
