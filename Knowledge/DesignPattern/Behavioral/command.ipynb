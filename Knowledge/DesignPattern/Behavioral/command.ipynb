{
 "cells": [
  {
   "cell_type": "markdown",
   "metadata": {},
   "source": [
    "# Command (커맨드)\n",
    "\n",
    "    \"너 이거 해\"가 아닌 \"이거 하는 녀석(들)\"을 전달하여 활용"
   ]
  },
  {
   "cell_type": "markdown",
   "metadata": {},
   "source": [
    "## 정의\n",
    "\n",
    "요청을 요청에 대한 모든 정보가 포함된 독립 실행형 개체(커맨드)로 만드는 패턴. 즉, '실행하는 녀석'과 '동작하는 녀석'을 분리.\n",
    "\n",
    "Strategy(전략) 패턴과 구조가 매우 비슷하다.\n",
    "- 전략 패턴은 요청을 수행하는 객체의 '교체'에 중점을 둔다.\n",
    "- 커맨드 패턴은 동작을 command로 캡슐화하여 타 객체의 트리거와 연결하기 위해 사용된다.\n",
    "\n",
    "단순히 실행객체와 수행객체를 분리해놓은 것이 다가 아니라 커맨드 객체를 큐에서 활용하거나, 커맨드 객체가 do와 undo를 보유한다거나 하는 등 여러 방식으로 사용할 수 있다고 한다."
   ]
  },
  {
   "cell_type": "markdown",
   "metadata": {},
   "source": [
    "## 구현"
   ]
  },
  {
   "cell_type": "code",
   "execution_count": 28,
   "metadata": {},
   "outputs": [
    {
     "name": "stdout",
     "output_type": "stream",
     "text": [
      "Receiver: operation\n",
      "OperationBCommand: execute\n"
     ]
    }
   ],
   "source": [
    "from __future__ import annotations\n",
    "\n",
    "\n",
    "# Receiver - 로직 보유\n",
    "class Receiver:\n",
    "\n",
    "    def operation(self):\n",
    "        print(\"Receiver: operation\")\n",
    "\n",
    "\n",
    "# Invoker - 커맨드 객체들을 보유하고 트리거 역할을 수행\n",
    "class Button:\n",
    "\n",
    "    def __init__(self, command: Command):\n",
    "        self.command = command\n",
    "    \n",
    "    def pressed(self):\n",
    "        self.command.execute()\n",
    "\n",
    "\n",
    "# Command - 동작 수행 인터페이스 보유\n",
    "class Command:\n",
    "\n",
    "    def execute(self):\n",
    "        ...\n",
    "\n",
    "\n",
    "# Concrete Command - Receiver를 소유하고(또는 하지 않고) 동작을 구현\n",
    "class OperationACommand(Command):\n",
    "\n",
    "    def __init__(self, receiver: Receiver):\n",
    "        self.receiver = receiver\n",
    "\n",
    "    def execute(self):\n",
    "        self.receiver.operation()\n",
    "\n",
    "class OperationBCommand(Command):\n",
    "\n",
    "    def execute(self):\n",
    "        print(\"OperationBCommand: execute\")\n",
    "\n",
    "\n",
    "\n",
    "if __name__ == \"__main__\":\n",
    "\n",
    "    receiver = Receiver()\n",
    "    command_a = OperationACommand(receiver)\n",
    "    command_b = OperationBCommand()\n",
    "\n",
    "    button_a = Button(command_a)\n",
    "    button_a.pressed()\n",
    "\n",
    "    button_b = Button(command_b)\n",
    "    button_b.pressed()"
   ]
  }
 ],
 "metadata": {
  "interpreter": {
   "hash": "c2628c66a632ba2b69e6a5b3a4dad634af81f317f443884fc2584f16d8e329ae"
  },
  "kernelspec": {
   "display_name": "Python 3.9.6 64-bit ('fastapi': conda)",
   "language": "python",
   "name": "python3"
  },
  "language_info": {
   "codemirror_mode": {
    "name": "ipython",
    "version": 3
   },
   "file_extension": ".py",
   "mimetype": "text/x-python",
   "name": "python",
   "nbconvert_exporter": "python",
   "pygments_lexer": "ipython3",
   "version": "3.9.6"
  },
  "orig_nbformat": 4
 },
 "nbformat": 4,
 "nbformat_minor": 2
}
