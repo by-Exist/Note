{
 "cells": [
  {
   "cell_type": "markdown",
   "metadata": {},
   "source": [
    "# Observer (옵저버)\n",
    "\n",
    "    어떠한 동작이 발생했다는 사실을 여러 객체에게 전파"
   ]
  },
  {
   "cell_type": "markdown",
   "metadata": {},
   "source": [
    "## 정의\n",
    "\n",
    "p가 있고, p.subscribers(set)가 있고, p는 p.subscribers에 s를 추가하는 동작(set.add)과 p의 어떤 동작이 수행되었을 때 p.subscribers를 순회하며 s의 메서드를 트리거하는 동작(subscriber의 인터페이스)이 구현되어 있다.\n",
    "\n",
    "p의 동작이 트리거 역할을 해서 여러 s의 동작 실행을 유발해야 할 때 사용할 수 있는 패턴.\n",
    "\n",
    "아래 코드에서\n",
    "- dict를 사용해서 event(str):subscribers(set)을 매핑해서 여러 이벤트를 활용할 수 있도록 한 부분\n",
    "- subscribers를 set으로 지정하는 부분\n",
    "- 클라이언트가 활용하는 객체가 publisher 객체를 속성으로 부여하는 부분\n",
    "\n",
    "들이 주목할 만 하다."
   ]
  },
  {
   "cell_type": "markdown",
   "metadata": {},
   "source": [
    "## 구현"
   ]
  },
  {
   "cell_type": "code",
   "execution_count": 49,
   "metadata": {},
   "outputs": [
    {
     "name": "stdout",
     "output_type": "stream",
     "text": [
      "LoggingListener : Someone has opened the file: some/path/file.py file (write /path/to/log.txt)\n",
      "EmailAlertsListener : Someone has changed the file: some/path/file.py file (to admin@example.com)\n"
     ]
    }
   ],
   "source": [
    "from __future__ import annotations\n",
    "from collections import defaultdict\n",
    "from pathlib import Path\n",
    "\n",
    "\n",
    "class EventManager:\n",
    "\n",
    "    def __init__(self):\n",
    "        self.listeners: defaultdict[str, set[EventListener]] = defaultdict(set)\n",
    "    \n",
    "    def subscribe(self, event_type: str, listener: EventListener):\n",
    "        self.listeners[event_type].add(listener)\n",
    "    \n",
    "    def unsubscribe(self, event_type: str, listener: EventListener):\n",
    "        self.listeners[event_type].remove(listener)\n",
    "    \n",
    "    def notify(self, event_type: str, data: str):\n",
    "        for listener in self.listeners[event_type]:\n",
    "            listener.update(data)\n",
    "\n",
    "\n",
    "class EventListener:\n",
    "\n",
    "    def update(self, file_name: str):\n",
    "        ...\n",
    "\n",
    "\n",
    "class LoggingListener(EventListener):\n",
    "\n",
    "    def __init__(self, log_file_name: str, message: str):\n",
    "        self.log_file_name = log_file_name\n",
    "        self.message = message\n",
    "    \n",
    "    def update(self, file_name):\n",
    "        print(f\"LoggingListener : {self.message.format(file_name)} (write {self.log_file_name})\")\n",
    "\n",
    "\n",
    "class EmailAlertsListener(EventListener):\n",
    "\n",
    "    def __init__(self, to_email: str, message: str):\n",
    "        self.to_email = to_email\n",
    "        self.message = message\n",
    "    \n",
    "    def update(self, file_name: str):\n",
    "        print(f\"EmailAlertsListener : {self.message.format(file_name)} (to {self.to_email})\")\n",
    "\n",
    "\n",
    "class Editor:\n",
    "\n",
    "    def __init__(self):\n",
    "        self.event_manager = EventManager()\n",
    "        self.file = None\n",
    "    \n",
    "    def open_file(self, path: str):\n",
    "        self.file = f\"{path} file\"\n",
    "        self.event_manager.notify(\"open\", self.file)\n",
    "    \n",
    "    def save_file(self):\n",
    "        self.event_manager.notify(\"save\", self.file)\n",
    "\n",
    "\n",
    "editor = Editor()\n",
    "\n",
    "logger = LoggingListener(\"/path/to/log.txt\", \"Someone has opened the file: {}\")\n",
    "editor.event_manager.subscribe(\"open\", logger)\n",
    "\n",
    "email_sender = EmailAlertsListener(\"admin@example.com\", \"Someone has changed the file: {}\")\n",
    "editor.event_manager.subscribe(\"save\", email_sender)\n",
    "\n",
    "editor.open_file(\"some/path/file.py\")\n",
    "editor.save_file()"
   ]
  }
 ],
 "metadata": {
  "interpreter": {
   "hash": "c2628c66a632ba2b69e6a5b3a4dad634af81f317f443884fc2584f16d8e329ae"
  },
  "kernelspec": {
   "display_name": "Python 3.9.6 64-bit ('fastapi': conda)",
   "language": "python",
   "name": "python3"
  },
  "language_info": {
   "codemirror_mode": {
    "name": "ipython",
    "version": 3
   },
   "file_extension": ".py",
   "mimetype": "text/x-python",
   "name": "python",
   "nbconvert_exporter": "python",
   "pygments_lexer": "ipython3",
   "version": "3.9.6"
  },
  "orig_nbformat": 4
 },
 "nbformat": 4,
 "nbformat_minor": 2
}
