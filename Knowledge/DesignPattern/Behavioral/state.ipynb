{
 "cells": [
  {
   "cell_type": "markdown",
   "metadata": {},
   "source": [
    "# State (상태)\n",
    "\n",
    "    유한상태기계처럼 조건마다 동일한 요청이 다른 방식으로 처리"
   ]
  },
  {
   "cell_type": "markdown",
   "metadata": {},
   "source": [
    "## 정의\n",
    "\n",
    "내부 상태(조건)이 변경될 때 마다 객체가 동작하는 방식을 변경할 수 있도록 하는 패턴.\n",
    "\n",
    "휴대폰을 보자. 화면이꺼진상태(상태)에서 전원 버튼을 누르면(메서드) 화면이 켜진다. 그러나 화면이켜진상태에서 화면 버튼을 누르면 화면이 꺼진다. 상태에 따라 다르게 동작한다는 뜻은 이러한 방식(유한상태기계)을 의미한다.\n",
    "\n",
    "phone.click_power_button이 phone.state.click_power_button을 호출한다. state에는 화면꺼진상태, 화면켜진상태가 있을 수 있다. phone.state가 화면꺼진상태였다면, 결국 phone.화면꺼진상태.click_power_button이 호출되는 것이다. 화면꺼진상태.click_power_button은 호출될 경우 휴대폰의 화면을 켠 다음 phone.state를 화면꺼진상태로 변경한다.\n",
    "\n",
    "전략 패턴에 다음 알고리즘(전략 객체의 동작 수행 과정에 다른 전략 객체로의 교환 과정을 포함)을 포함하도록 구성된 패턴이라고 볼 수 있다."
   ]
  },
  {
   "cell_type": "markdown",
   "metadata": {},
   "source": [
    "## 구현"
   ]
  },
  {
   "cell_type": "code",
   "execution_count": 18,
   "metadata": {},
   "outputs": [
    {
     "name": "stdout",
     "output_type": "stream",
     "text": [
      "on\n",
      "AudioPlayer: choice next song\n",
      "AudioPlayer: play song\n",
      "AudioPlayer: choice next song\n",
      "AudioPlayer: skip 5 second.\n",
      "AudioPlayer: stop song\n",
      "AudioPlayer: choice previous song\n",
      "off\n"
     ]
    }
   ],
   "source": [
    "from __future__ import annotations\n",
    "\n",
    "\n",
    "class AudioPlayer:\n",
    "\n",
    "    def __init__(self):\n",
    "        self.state: State = LockedState(self)\n",
    "\n",
    "    def start_playback(self):\n",
    "        print(\"AudioPlayer: play song\")\n",
    "\n",
    "    def stop_playback(self):\n",
    "        print(\"AudioPlayer: stop song\")\n",
    "\n",
    "    def next_song(self):\n",
    "        print(\"AudioPlayer: choice next song\")\n",
    "\n",
    "    def previous_song(self):\n",
    "        print(\"AudioPlayer: choice previous song\")\n",
    "\n",
    "    def fast_forward(self, n):\n",
    "        print(f\"AudioPlayer: skip {n} second.\")\n",
    "\n",
    "    def rewind(self, n):\n",
    "        print(f\"AudioPlayer: rewind {n} second.\")\n",
    "\n",
    "\n",
    "class State:\n",
    "\n",
    "    def __init__(self, player: AudioPlayer):\n",
    "        self.player = player\n",
    "\n",
    "    def click_lock(self):\n",
    "        ...\n",
    "    \n",
    "    def click_play(self):\n",
    "        ...\n",
    "\n",
    "    def click_next(self, count=1):\n",
    "        ...\n",
    "\n",
    "    def click_previous(self, count=1):\n",
    "        ...\n",
    "\n",
    "\n",
    "class LockedState(State):\n",
    "\n",
    "    def click_lock(self):\n",
    "        print(\"on\")\n",
    "        self.player.state = ReadyState(self.player)\n",
    "\n",
    "\n",
    "class ReadyState(State):\n",
    "\n",
    "    def click_lock(self):\n",
    "        print(\"off\")\n",
    "        self.player.state = LockedState(self.player)\n",
    "    \n",
    "    def click_play(self):\n",
    "        self.player.start_playback()\n",
    "        self.player.state = PlayingState(self.player)\n",
    "    \n",
    "    def click_next(self, count=1):\n",
    "        self.player.next_song()\n",
    "    \n",
    "    def click_previous(self, count=1):\n",
    "        self.player.previous_song()\n",
    "\n",
    "\n",
    "class PlayingState(State):\n",
    "\n",
    "    def click_lock(self):\n",
    "        self.player.state = LockedState(self.player)\n",
    "    \n",
    "    def click_play(self):\n",
    "        self.player.stop_playback()\n",
    "        self.player.state = ReadyState(self.player)\n",
    "    \n",
    "    def click_next(self, count=1):\n",
    "        if count >= 2:\n",
    "            self.player.next_song()\n",
    "        self.player.fast_forward(5)\n",
    "    \n",
    "    def click_previous(self, count=1):\n",
    "        if count >= 2:\n",
    "            self.player.previous_song()\n",
    "        self.player.rewind(5)\n",
    "\n",
    "\n",
    "player = AudioPlayer()\n",
    "\n",
    "player.state.click_lock()  # lock -> ready\n",
    "player.state.click_next()\n",
    "player.state.click_play()  # ready -> playing\n",
    "player.state.click_next(2)\n",
    "player.state.click_play()\n",
    "player.state.click_previous()\n",
    "player.state.click_lock()  # playing -> lock\n",
    "\n",
    "player.state.click_previous()  # ignored"
   ]
  }
 ],
 "metadata": {
  "interpreter": {
   "hash": "c2628c66a632ba2b69e6a5b3a4dad634af81f317f443884fc2584f16d8e329ae"
  },
  "kernelspec": {
   "display_name": "Python 3.9.6 64-bit ('fastapi': conda)",
   "language": "python",
   "name": "python3"
  },
  "language_info": {
   "codemirror_mode": {
    "name": "ipython",
    "version": 3
   },
   "file_extension": ".py",
   "mimetype": "text/x-python",
   "name": "python",
   "nbconvert_exporter": "python",
   "pygments_lexer": "ipython3",
   "version": "3.9.6"
  },
  "orig_nbformat": 4
 },
 "nbformat": 4,
 "nbformat_minor": 2
}
