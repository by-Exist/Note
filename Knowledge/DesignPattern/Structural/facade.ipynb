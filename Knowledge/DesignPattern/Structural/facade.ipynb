{
 "cells": [
  {
   "cell_type": "markdown",
   "metadata": {},
   "source": [
    "# Facade (퍼사드)\n",
    "\n",
    "    복잡한 저수준 코드들의 동작을 쉬운 인터페이스로 제공하고 싶은데?"
   ]
  },
  {
   "cell_type": "markdown",
   "metadata": {},
   "source": [
    "## 정의\n",
    "\n",
    "라이브러리, 프레임워크, 기타 복잡한 클래스 집합에 대한 단순화된 인터페이스를 제공하는 패턴.\n",
    "\n",
    "간단하게 말해, 복잡한 건 숨겨서 버튼 하나 누르면 안에서 알아서 뚝딱뚝딱 처리하도록 구현한다는 의미."
   ]
  },
  {
   "cell_type": "markdown",
   "metadata": {},
   "source": [
    "## 구현"
   ]
  },
  {
   "cell_type": "code",
   "execution_count": 2,
   "metadata": {},
   "outputs": [],
   "source": [
    "class CPU:\n",
    "\n",
    "    def freeze(self):\n",
    "        ...\n",
    "\n",
    "    def jump(self):\n",
    "        ...\n",
    "\n",
    "    def excute(self):\n",
    "        ...\n",
    "\n",
    "\n",
    "class Memory:\n",
    "\n",
    "    def load(self, position: int, data: bytes):\n",
    "        ...\n",
    "\n",
    "\n",
    "class HardDisk:\n",
    "\n",
    "    def read(self, lba: int, size: int):\n",
    "        return bytes(\"boot data\", encoding=\"utf-8\")\n",
    "\n",
    "\n",
    "BOOT_ADDRESS = 1\n",
    "BOOT_SECTOR = 1\n",
    "SECTOR_SIZE = 1\n",
    "\n",
    "class Computer:\n",
    "\n",
    "    # Facade, 복잡한 과정을 숨기고 간단한 인터페이스를 제공\n",
    "    def start(self):\n",
    "        cpu = CPU()\n",
    "        memory = Memory()\n",
    "        hard_disk = HardDisk()\n",
    "        cpu.freeze()\n",
    "        memory.load(BOOT_ADDRESS, hard_disk.read(BOOT_SECTOR, SECTOR_SIZE))\n",
    "        cpu.jump()\n",
    "        cpu.excute()\n",
    "\n",
    "\n",
    "if __name__ == \"__main__\":\n",
    "\n",
    "    computer = Computer()\n",
    "    computer.start()"
   ]
  }
 ],
 "metadata": {
  "interpreter": {
   "hash": "c2628c66a632ba2b69e6a5b3a4dad634af81f317f443884fc2584f16d8e329ae"
  },
  "kernelspec": {
   "display_name": "Python 3.9.6 64-bit ('fastapi': conda)",
   "language": "python",
   "name": "python3"
  },
  "language_info": {
   "codemirror_mode": {
    "name": "ipython",
    "version": 3
   },
   "file_extension": ".py",
   "mimetype": "text/x-python",
   "name": "python",
   "nbconvert_exporter": "python",
   "pygments_lexer": "ipython3",
   "version": "3.9.6"
  },
  "orig_nbformat": 4
 },
 "nbformat": 4,
 "nbformat_minor": 2
}
