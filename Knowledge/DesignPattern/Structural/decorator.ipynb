{
 "cells": [
  {
   "cell_type": "markdown",
   "metadata": {},
   "source": [
    "# Decorator (데코레이터)\n",
    "\n",
    "    객체를 래핑하는 방식으로 객체에 추가적인 동작을 부여할 수 없을까?"
   ]
  },
  {
   "cell_type": "markdown",
   "metadata": {},
   "source": [
    "## 정의\n",
    "\n",
    "객체 a를 객체 b로 감싸 기존 객체 a에 새로운 동작을 추가하는 디자인 패턴. 기존 파이썬 문법이 제공하는 데코레이터 기능은 해당 패턴 설명 내에서 제외한다.\n",
    "\n",
    "A -> BAB -> CBABC -> DCBABCD -> ...\n",
    "\n",
    "상속이 아닌 구성을 통해 동작을 확장하기 때문에 런타임에 동작을 변경할 수 있고 클라이언트가 수행 동작의 순서를 결정할 수 있다는 장점이 있다. 그러나 이미 래핑되어 있는 객체를 수정하기는 어렵고, 동작이 순서에 의존하는 방식으로 구현되어 있다는 점은 불편하다.\n",
    "\n",
    "클라이언트가 객체를 다루는 방식이 마트료시카와 유사하다면 충분히 고려해 볼 수 있는 패턴. 그러나 개인적으로, a.notifiers를 두고 일렬로 메서드를 호출하는 것과 비교했을 때 어떨지는 모르겠다."
   ]
  },
  {
   "cell_type": "markdown",
   "metadata": {},
   "source": [
    "## 구현"
   ]
  },
  {
   "cell_type": "code",
   "execution_count": 7,
   "metadata": {},
   "outputs": [
    {
     "name": "stdout",
     "output_type": "stream",
     "text": [
      "A가 B에게 문자를 전송합니다.\n",
      "A가 B에게 페이스북 메세지를 전송합니다.\n",
      "A가 B에게 슬랙 메세지를 전송합니다.\n"
     ]
    }
   ],
   "source": [
    "from typing import Protocol\n",
    "\n",
    "\n",
    "# Component\n",
    "# 기반이 되는 객체의 인터페이스와 데코레이터의 인터페이스는 동일하다.\n",
    "class NotifierProtocol(Protocol):\n",
    "\n",
    "    def send(self, from_, to_) -> None:\n",
    "        ...\n",
    "\n",
    "\n",
    "# Basic\n",
    "# 데코레이터 패턴을 사용하려면 가장 기본 동작을 하는 객체가 필요하다.\n",
    "class SMSNotifier(NotifierProtocol):\n",
    "\n",
    "    def send(self, from_, to_) -> None:\n",
    "        print(f\"{from_}가 {to_}에게 문자를 전송합니다.\")\n",
    "\n",
    "\n",
    "# Decorators\n",
    "# 기본 동작을 하는 객체를 has하여 기본 동작 이전 또는 이후에 추가적인 동작을 부여할 수 있다.\n",
    "class BaseNotifierDecorator(NotifierProtocol):\n",
    "\n",
    "    def __init__(self, notifier: NotifierProtocol):\n",
    "        self._notifier = notifier\n",
    "    \n",
    "    def send(self, from_, to_) -> None:\n",
    "        self._notifier.send(from_, to_)\n",
    "\n",
    "\n",
    "class FacebookNotifierDecorator(BaseNotifierDecorator):\n",
    "\n",
    "    def send(self, from_, to_) -> None:\n",
    "        super().send(from_, to_)\n",
    "        print(f\"{from_}가 {to_}에게 페이스북 메세지를 전송합니다.\")\n",
    "\n",
    "\n",
    "class SlackNotifierDecorator(BaseNotifierDecorator):\n",
    "\n",
    "    def send(self, from_, to_) -> None:\n",
    "        super().send(from_, to_)\n",
    "        print(f\"{from_}가 {to_}에게 슬랙 메세지를 전송합니다.\")\n",
    "\n",
    "\n",
    "# Example...\n",
    "if __name__ == \"__main__\":\n",
    "\n",
    "    base_notifier = SMSNotifier()\n",
    "    decorated = FacebookNotifierDecorator(base_notifier)\n",
    "    decorated = SlackNotifierDecorator(decorated)\n",
    "\n",
    "    decorated.send(\"A\", \"B\")"
   ]
  }
 ],
 "metadata": {
  "interpreter": {
   "hash": "c2628c66a632ba2b69e6a5b3a4dad634af81f317f443884fc2584f16d8e329ae"
  },
  "kernelspec": {
   "display_name": "Python 3.9.6 64-bit ('fastapi': conda)",
   "language": "python",
   "name": "python3"
  },
  "language_info": {
   "codemirror_mode": {
    "name": "ipython",
    "version": 3
   },
   "file_extension": ".py",
   "mimetype": "text/x-python",
   "name": "python",
   "nbconvert_exporter": "python",
   "pygments_lexer": "ipython3",
   "version": "3.9.6"
  },
  "orig_nbformat": 4
 },
 "nbformat": 4,
 "nbformat_minor": 2
}
