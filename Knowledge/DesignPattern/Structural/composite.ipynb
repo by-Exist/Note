{
 "cells": [
  {
   "cell_type": "markdown",
   "metadata": {},
   "source": [
    "# Composite (복합체)\n",
    "\n",
    "    *트리 형태의 객체 구조에서 모든 노드 또는 리프가 동일한 인터페이스*를 지니게 하려면 어떻게 하지?"
   ]
  },
  {
   "cell_type": "markdown",
   "metadata": {},
   "source": [
    "## 정의\n",
    "\n",
    "개체를 트리 구조로 구성하여 각 노드를 개별 개체인 것 처럼 사용할 수 있게 하는 패턴.\n",
    "\n",
    "디렉토리 구조를 생각하면 이해하기 쉽다.\n"
   ]
  },
  {
   "cell_type": "markdown",
   "metadata": {},
   "source": [
    "## 구현"
   ]
  },
  {
   "cell_type": "code",
   "execution_count": 15,
   "metadata": {},
   "outputs": [
    {
     "name": "stdout",
     "output_type": "stream",
     "text": [
      "CompositeGraphic\n",
      " └ CompositeGraphic\n",
      "  └ CompositeGraphic\n",
      "   └ Ellipse\n",
      "   └ Ellipse\n",
      "   └ Ellipse\n",
      "   └ Ellipse\n",
      "  └ Ellipse\n",
      "  └ Ellipse\n",
      " └ Ellipse\n",
      " └ Ellipse\n"
     ]
    }
   ],
   "source": [
    "from __future__ import annotations\n",
    "from typing import Protocol\n",
    "\n",
    "\n",
    "# 모든 노드와 리프에서 사용되는 공통 인터페이스 정의\n",
    "class Graphic(Protocol):\n",
    "\n",
    "    def print(self) -> str:\n",
    "        ...\n",
    "\n",
    "\n",
    "# Node\n",
    "class CompositeGraphic(Graphic):\n",
    "\n",
    "    def __init__(self, *args: list[Graphic]) -> None:\n",
    "        self._childs: list[Graphic] = [*args]\n",
    "    \n",
    "    def print(self, deps=0):\n",
    "        result = []\n",
    "        result.append(f\"{' '*deps}{'└ ' if deps else ''}{'CompositeGraphic'}\")\n",
    "        for child in self._childs:\n",
    "            result.append(child.print(deps=deps+1))\n",
    "        return \"\\n\".join(result)\n",
    "\n",
    "    def add(self, graphic: Graphic):\n",
    "        self._childs.append(graphic)\n",
    "    \n",
    "    def remove(self, graphic: Graphic):\n",
    "        self._childs.remove(graphic)\n",
    "\n",
    "\n",
    "# Leaf\n",
    "class Ellipse(Graphic):\n",
    "\n",
    "    def print(self, deps=0) -> str:\n",
    "        return f\"{' '*deps}{'└ ' if deps else ''}{'Ellipse'}\"\n",
    "\n",
    "\n",
    "# Example\n",
    "if __name__ == \"__main__\":\n",
    "\n",
    "    g1 = CompositeGraphic(*(Ellipse() for _ in range(4)))\n",
    "    g2 = CompositeGraphic(g1, *(Ellipse() for _ in range(2)))\n",
    "    g3 = CompositeGraphic(g2, *(Ellipse() for _ in range(2)))\n",
    "\n",
    "    print(g3.print())\n"
   ]
  }
 ],
 "metadata": {
  "interpreter": {
   "hash": "c2628c66a632ba2b69e6a5b3a4dad634af81f317f443884fc2584f16d8e329ae"
  },
  "kernelspec": {
   "display_name": "Python 3.9.6 64-bit ('fastapi': conda)",
   "language": "python",
   "name": "python3"
  },
  "language_info": {
   "codemirror_mode": {
    "name": "ipython",
    "version": 3
   },
   "file_extension": ".py",
   "mimetype": "text/x-python",
   "name": "python",
   "nbconvert_exporter": "python",
   "pygments_lexer": "ipython3",
   "version": "3.9.6"
  },
  "orig_nbformat": 4
 },
 "nbformat": 4,
 "nbformat_minor": 2
}
