{
 "cells": [
  {
   "cell_type": "markdown",
   "metadata": {},
   "source": [
    "# Proxy (프록시)\n",
    "\n",
    "    A가 B에 요청을 위임할 때 사이에 C를 두어서 C가 추가적인 동작을 수행하도록 구성할 수 있지 않을까?"
   ]
  },
  {
   "cell_type": "markdown",
   "metadata": {},
   "source": [
    "## 정의\n",
    "\n",
    "어떠한 요청이 원래 겍체에 전달되기 전이나 후에 동작을 추가적으로 수행하는 패턴.\n",
    "\n",
    "데코레이터와 형태가 매우 비슷하나(= 기존 요청 수행 객체와 동일한 인터페이스르 구현하고, 기존 요청 수행 객체를 has하여 동작 앞 뒤로 동작을 추가하는 패턴) 목적에 있어 차이가 있다.\n",
    "\n",
    "데코레이터는 클라이언트에게 직접적으로 노출되어 조합을 목적으로 활용되는 반면 프록시는 지연 초기화, 엑세스 제어, 로깅, 캐싱, 스마트 참조 등 내부적으로 활용된다."
   ]
  },
  {
   "cell_type": "markdown",
   "metadata": {},
   "source": [
    "## 구현"
   ]
  },
  {
   "cell_type": "code",
   "execution_count": 7,
   "metadata": {},
   "outputs": [
    {
     "name": "stdout",
     "output_type": "stream",
     "text": [
      "Start subject request\n",
      "Subject : 요청 처리\n",
      "\n",
      "Start proxy request\n",
      "Proxy: 액세스 권한 확인\n",
      "Subject : 요청 처리\n",
      "Proxy: 접근 시간 로깅\n"
     ]
    }
   ],
   "source": [
    "from typing import Protocol\n",
    "\n",
    "\n",
    "class SubjectProtocol(Protocol):\n",
    "\n",
    "    def request(self) -> None:\n",
    "        ...\n",
    "\n",
    "\n",
    "class Subject(SubjectProtocol):\n",
    "\n",
    "    def request(self) -> None:\n",
    "        print(\"Subject : 요청 처리\")\n",
    "\n",
    "\n",
    "class Proxy(SubjectProtocol):\n",
    "\n",
    "    def __init__(self, subject: Subject):\n",
    "        self._subject = subject\n",
    "    \n",
    "    def request(self) -> None:\n",
    "        if self.check_access():\n",
    "            self._subject.request()\n",
    "            self.log_access()\n",
    "    \n",
    "    def check_access(self):\n",
    "        print(\"Proxy: 액세스 권한 확인\")\n",
    "        return True\n",
    "    \n",
    "    def log_access(self):\n",
    "        print(\"Proxy: 접근 시간 로깅\")\n",
    "\n",
    "\n",
    "if __name__ == \"__main__\":\n",
    "\n",
    "    print(\"Start subject request\")\n",
    "    subject = Subject()\n",
    "    subject.request()\n",
    "\n",
    "    print()\n",
    "\n",
    "    print(\"Start proxy request\")\n",
    "    proxy = Proxy(subject)\n",
    "    proxy.request()"
   ]
  }
 ],
 "metadata": {
  "interpreter": {
   "hash": "c2628c66a632ba2b69e6a5b3a4dad634af81f317f443884fc2584f16d8e329ae"
  },
  "kernelspec": {
   "display_name": "Python 3.9.6 64-bit ('fastapi': conda)",
   "language": "python",
   "name": "python3"
  },
  "language_info": {
   "codemirror_mode": {
    "name": "ipython",
    "version": 3
   },
   "file_extension": ".py",
   "mimetype": "text/x-python",
   "name": "python",
   "nbconvert_exporter": "python",
   "pygments_lexer": "ipython3",
   "version": "3.9.6"
  },
  "orig_nbformat": 4
 },
 "nbformat": 4,
 "nbformat_minor": 2
}
