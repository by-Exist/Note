{
 "cells": [
  {
   "cell_type": "markdown",
   "metadata": {},
   "source": [
    "# Bridge (브리지)\n",
    "\n",
    "    A와 B 사이에 추상화 단계를 두면 좋을 것 같은데?"
   ]
  },
  {
   "cell_type": "markdown",
   "metadata": {},
   "source": [
    "## 정의\n",
    "\n",
    "a 객체가 b 객체를 has한 관계에서 A가 B의 인터페이스에 의존하고 B는 B의 인터페이스에 의존함으로써 의존성을 낮추고 확장성을 높이는 패턴. A와 B 사이에 직접적인 의존성이 많이 낮아졌다는 점과 B의 다양한 구현을 추가하더라도 기존 코드에 영향을 미치지 않는다는 장점이 있다. 의존성은 낮추고 확장성은 높인다.\n",
    "\n",
    "A -> AbstractB(추상) <- B(구현) (이러한 형태가 마치 다리처럼 구성되어 있다.)\n",
    "\n",
    "객체를 보유하고 요청을 전가한다는 점에서 데코레이터 패턴이나 어뎁터 패턴과 유사하다. 그러나 목적이 다르다.\n",
    "- 데코레이터 패턴 : 추가적인 책임을 마트료시카처럼 부여\n",
    "- 어뎁터 패턴 : A를 B처럼 쓰고 싶을 때 인터페이스를 변경\n",
    "- 브릿지 패턴 : 사용되는 곳과 구현하는 곳 사이에 추상화 단계를 두어 확장성을 높이고 의존성을 낮춤\n",
    "\n",
    "DB 종류에 따라 커넥터를 달리 해야 할 때, 데이터를 출력하는 여러가지 방식이 있을 때 등등의 경우 사용될 수 있다.\n",
    "\n",
    "일반적으로 A 인스턴스 생성자에 b를 인자로 넘겨주는 방식으로 구현된다."
   ]
  },
  {
   "cell_type": "markdown",
   "metadata": {},
   "source": [
    "## 구현"
   ]
  },
  {
   "cell_type": "code",
   "execution_count": 3,
   "metadata": {},
   "outputs": [
    {
     "name": "stdout",
     "output_type": "stream",
     "text": [
      "a impl\n",
      "b impl\n"
     ]
    }
   ],
   "source": [
    "from __future__ import annotations\n",
    "from typing import Protocol\n",
    "\n",
    "\n",
    "# Using Abstract\n",
    "class Abstraction:\n",
    "\n",
    "    def __init__(self, impl: AbstractImplementor):\n",
    "        self._impl = impl\n",
    "    \n",
    "    def method(self):\n",
    "        return self._impl.implementation()\n",
    "\n",
    "\n",
    "# Abstract\n",
    "class AbstractImplementor(Protocol):\n",
    "    \n",
    "    def implementation(self) -> str:\n",
    "        ...\n",
    "\n",
    "\n",
    "# Implements\n",
    "class ImplementorA(AbstractImplementor):\n",
    "\n",
    "    def implementation(self) -> str:\n",
    "        return \"a impl\"\n",
    "\n",
    "\n",
    "class ImplementorB(AbstractImplementor):\n",
    "\n",
    "    def implementation(self) -> str:\n",
    "        return \"b impl\"\n",
    "\n",
    "\n",
    "# Example\n",
    "if __name__ == \"__main__\":\n",
    "\n",
    "    impl_a = ImplementorA()\n",
    "    abstraction = Abstraction(impl_a)\n",
    "    print(abstraction.method())\n",
    "\n",
    "    impl_b = ImplementorB()\n",
    "    abstraction = Abstraction(impl_b)\n",
    "    print(abstraction.method())"
   ]
  }
 ],
 "metadata": {
  "interpreter": {
   "hash": "c2628c66a632ba2b69e6a5b3a4dad634af81f317f443884fc2584f16d8e329ae"
  },
  "kernelspec": {
   "display_name": "Python 3.9.6 64-bit ('fastapi': conda)",
   "language": "python",
   "name": "python3"
  },
  "language_info": {
   "codemirror_mode": {
    "name": "ipython",
    "version": 3
   },
   "file_extension": ".py",
   "mimetype": "text/x-python",
   "name": "python",
   "nbconvert_exporter": "python",
   "pygments_lexer": "ipython3",
   "version": "3.9.6"
  },
  "orig_nbformat": 4
 },
 "nbformat": 4,
 "nbformat_minor": 2
}
