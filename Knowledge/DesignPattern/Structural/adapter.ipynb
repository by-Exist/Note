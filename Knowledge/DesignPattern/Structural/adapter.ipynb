{
 "cells": [
  {
   "cell_type": "markdown",
   "metadata": {},
   "source": [
    "# Adapter (어뎁터)\n",
    "\n",
    "    \"B를 A처럼 쓰고 싶은데 어쩌지?\""
   ]
  },
  {
   "cell_type": "markdown",
   "metadata": {},
   "source": [
    "## 정의\n",
    "\n",
    "A 인터페이스를 B 인터페이스로 동작하도록 감싸는 패턴이다. 주변의 사물로 비교할 경우 전원 플러그 어뎁터를 생각할 수 있다.\n",
    "\n",
    "데코레이터 패턴과 유사하지만, 어댑터는 객체의 인터페이스를 변경하기 위한 목적이며 데코레이터는 인터페이스를 변경하는 것이 아닌 객체의 동작을 유연하게 추가하는 것에 목적이 있다.\n",
    "\n",
    "개인적으로, 상속보다 객체 구성을 통해 구현하는 것이 더 좋아보인다. 메서드 이름 중복에 대한 걸림돌이 없기 때문."
   ]
  },
  {
   "cell_type": "markdown",
   "metadata": {},
   "source": [
    "## 구현"
   ]
  },
  {
   "cell_type": "code",
   "execution_count": 6,
   "metadata": {},
   "outputs": [
    {
     "name": "stdout",
     "output_type": "stream",
     "text": [
      "Specific Reqeust\n"
     ]
    }
   ],
   "source": [
    "# 구성을 활용해 구현\n",
    "\n",
    "class Target:\n",
    "\n",
    "    def request(self) -> str:\n",
    "        return \"Request\"\n",
    "\n",
    "\n",
    "class Adaptee:\n",
    "\n",
    "    def specific_request(self) -> str:\n",
    "        return \"Specific Reqeust\"\n",
    "\n",
    "\n",
    "class Adapter:\n",
    "\n",
    "    def __init__(self, adaptee: Adaptee):\n",
    "        self._adaptee = adaptee\n",
    "\n",
    "    def request(self):\n",
    "        return f\"{self._adaptee.specific_request()}\"\n",
    "\n",
    "\n",
    "if __name__ == \"__main__\":\n",
    "    adapter = Adapter(Adaptee())\n",
    "\n",
    "    print(adapter.request())"
   ]
  },
  {
   "cell_type": "code",
   "execution_count": 4,
   "metadata": {},
   "outputs": [
    {
     "name": "stdout",
     "output_type": "stream",
     "text": [
      "Specific Reqeust\n"
     ]
    }
   ],
   "source": [
    "# 상속을 활용해 구현\n",
    "\n",
    "class Target:\n",
    "\n",
    "    def request(self) -> str:\n",
    "        return \"Request\"\n",
    "\n",
    "\n",
    "class Adaptee:\n",
    "\n",
    "    def specific_request(self) -> str:\n",
    "        return \"Specific Reqeust\"\n",
    "\n",
    "\n",
    "class Adapter(Adaptee, Target):\n",
    "\n",
    "    def request(self):\n",
    "        return f\"{self.specific_request()}\"\n",
    "\n",
    "\n",
    "if __name__ == \"__main__\":\n",
    "    adapter = Adapter()\n",
    "\n",
    "    print(adapter.request())"
   ]
  }
 ],
 "metadata": {
  "interpreter": {
   "hash": "c2628c66a632ba2b69e6a5b3a4dad634af81f317f443884fc2584f16d8e329ae"
  },
  "kernelspec": {
   "display_name": "Python 3.9.6 64-bit ('fastapi': conda)",
   "language": "python",
   "name": "python3"
  },
  "language_info": {
   "codemirror_mode": {
    "name": "ipython",
    "version": 3
   },
   "file_extension": ".py",
   "mimetype": "text/x-python",
   "name": "python",
   "nbconvert_exporter": "python",
   "pygments_lexer": "ipython3",
   "version": "3.9.6"
  },
  "orig_nbformat": 4
 },
 "nbformat": 4,
 "nbformat_minor": 2
}
