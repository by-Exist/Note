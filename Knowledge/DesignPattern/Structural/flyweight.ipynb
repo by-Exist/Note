{
 "cells": [
  {
   "cell_type": "markdown",
   "metadata": {},
   "source": [
    "# Flyweight (플라이웨이트)\n",
    "\n",
    "    객체가 너무 많아서 메모리 문제가 있을 줄은 몰랐는걸?"
   ]
  },
  {
   "cell_type": "markdown",
   "metadata": {},
   "source": [
    "## 정의\n",
    "\n",
    "Flyweight는 객체가 무수히 많이 생성될 경우, 속성의 중복적인 부분을 별도의 불변한 객체로 변환하고 공유하며 메모리를 절약하는 패턴이다. \n",
    "\n",
    "'무수히 많은 객체'로 인한 문제가 발생하기 직전까지 해당 패턴의 사용을 보류한다. 조기 최적화를 하지 말라는 의미에서 한줄 요약이 저렇게 쓰여 있다."
   ]
  },
  {
   "cell_type": "markdown",
   "metadata": {},
   "source": [
    "## 구현"
   ]
  },
  {
   "cell_type": "code",
   "execution_count": 6,
   "metadata": {},
   "outputs": [
    {
     "name": "stdout",
     "output_type": "stream",
     "text": [
      "[TreeData('부드러운', '붉은', '앙상한'),\n",
      " TreeData('부드러운', '붉은', '풍성한'),\n",
      " TreeData('거친', '붉은', '앙상한'),\n",
      " TreeData('거친', '갈색인', '앙상한'),\n",
      " TreeData('부드러운', '갈색인', '앙상한'),\n",
      " TreeData('거친', '붉은', '풍성한'),\n",
      " TreeData('거친', '갈색인', '풍성한'),\n",
      " TreeData('부드러운', '갈색인', '풍성한')]\n",
      "[]\n"
     ]
    }
   ],
   "source": [
    "from __future__ import annotations\n",
    "\n",
    "from weakref import WeakSet\n",
    "from pprint import pprint\n",
    "import random\n",
    "\n",
    "\n",
    "# DDD에서 설명되는 값 객체와 유사하다. (개념적으로 동일한가...?)\n",
    "# __hash__를 구현하면 해당 객체는 불변해야 한다.\n",
    "class TreeData:\n",
    "\n",
    "    def __init__(self, mash: str, bark_texture: str, leaves_texture: str):\n",
    "        self._mash = mash\n",
    "        self._bark_texture = bark_texture\n",
    "        self._leaves_texture = leaves_texture\n",
    "\n",
    "    def __key(self):\n",
    "        return (self._mash, self._bark_texture, self._leaves_texture)\n",
    "\n",
    "    def __hash__(self) -> int:\n",
    "        return hash(self.__key())\n",
    "    \n",
    "    def __eq__(self, __o: object) -> bool:\n",
    "        if isinstance(__o, type(self)):\n",
    "            return self.__key() == __o.__key()\n",
    "        return NotImplemented\n",
    "    \n",
    "    def __repr__(self) -> str:\n",
    "        return f\"{type(self).__name__}('{self._mash}', '{self._bark_texture}', '{self._leaves_texture}')\"\n",
    "\n",
    "\n",
    "class Tree:\n",
    "\n",
    "    _tree_datas: WeakSet[TreeData] = WeakSet()\n",
    "\n",
    "    def __init__(self, position: tuple[int, int], height: int, mash: str, bark_texture: str, leaves_texture: str):\n",
    "        # tree_data를 공유\n",
    "        _tree_data = TreeData(mash, bark_texture, leaves_texture)\n",
    "        if _tree_data not in self._tree_datas:\n",
    "            self._tree_datas.add(_tree_data)\n",
    "        self._tree_data = _tree_data\n",
    "        self.position = position\n",
    "        self.height = height\n",
    "\n",
    "\n",
    "if __name__ == \"__main__\":\n",
    "\n",
    "    mashs = [\"거친\", \"부드러운\"]\n",
    "    bark_textures = [\"갈색인\", \"붉은\"]\n",
    "    leaves_textures = [\"풍성한\", \"앙상한\"]\n",
    "\n",
    "    tree_count = 100000\n",
    "    trees = [Tree((random.randint(0, 1000), random.randint(0, 1000)), random.randint(3, 40), random.choice(mashs), random.choice(bark_textures), random.choice(leaves_textures)) for _ in range(tree_count)]\n",
    "\n",
    "    pprint([*Tree._tree_datas])\n",
    "\n",
    "    del trees\n",
    "    pprint([*Tree._tree_datas])\n"
   ]
  }
 ],
 "metadata": {
  "interpreter": {
   "hash": "c2628c66a632ba2b69e6a5b3a4dad634af81f317f443884fc2584f16d8e329ae"
  },
  "kernelspec": {
   "display_name": "Python 3.9.6 64-bit ('fastapi': conda)",
   "language": "python",
   "name": "python3"
  },
  "language_info": {
   "codemirror_mode": {
    "name": "ipython",
    "version": 3
   },
   "file_extension": ".py",
   "mimetype": "text/x-python",
   "name": "python",
   "nbconvert_exporter": "python",
   "pygments_lexer": "ipython3",
   "version": "3.9.6"
  },
  "orig_nbformat": 4
 },
 "nbformat": 4,
 "nbformat_minor": 2
}
