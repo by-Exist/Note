{
 "cells": [
  {
   "cell_type": "markdown",
   "metadata": {},
   "source": [
    "# Builder (빌더)\n",
    "\n",
    "    \"(생성자 오버라이딩 개념이 있는 프로그래밍 언어의 경우) 생성자에 전달할 인수가 복잡할 때 어쩌지?\""
   ]
  },
  {
   "cell_type": "markdown",
   "metadata": {},
   "source": [
    "## 정의\n",
    "\n",
    "파이썬에서는 특별한 경우가 아닌 한 빌더 패턴을 사용할 이유가 없다. 딕셔너리 언패킹을 통해 키워드 인자를 전달하는 방식, 함수 인자의 기본값을 할당하는 방식 등이 이미 존재하기 때문이다. 그러나 메서드 오버로딩을 지원하는 Java나 C#과 같은 프로그래밍 언어에서는 자주 사용되는 패턴이다.\n",
    "\n",
    "해당 문제를 해결하기 위한 자바의 패턴은 다음과 같다.\n",
    "- 점층적 생성자 : 여러 개의 생성자를 전부 정의하던가 (생성자 오버로딩)\n",
    "- 자바 빈 : 객체를 생성하고 세터를 활용해 값을 설정하던가 (세터가 self를 return하여 체이닝 방식으로 구성, 불변한 객체를 설계하기가 불가능)\n",
    "- 빌더 : Builder 생성자에 필수 인자, builder 객체에 여러 세터들을 두고, Builder의 메서드를 활용해 Product 객체를 생성하던가\n",
    "\n",
    "그렇다면, 어떻게 사용될 수 있는가?\n",
    "- 고전적 빌더 패턴 (파이썬에서 의미 없음)\n",
    "- 객체의 생성 과정이 동일한 다른 여러 객체를 위해 일종의 '템플릿 메서드'처럼 빌더 패턴을 활용\n",
    "\n",
    "그러나 두 번재 예제도 자주 사용될 것 같지는 않다."
   ]
  },
  {
   "cell_type": "markdown",
   "metadata": {},
   "source": [
    "## 구현"
   ]
  },
  {
   "cell_type": "code",
   "execution_count": 56,
   "metadata": {},
   "outputs": [
    {
     "name": "stdout",
     "output_type": "stream",
     "text": [
      "{'required_1': 1, 'required_2': 2, 'optional_1': None, 'optional_2': None}\n",
      "{'required_1': 1, 'required_2': 2, 'optional_1': 3, 'optional_2': 4}\n"
     ]
    }
   ],
   "source": [
    "# 고전적 빌더 패턴의 구조\n",
    "from __future__ import annotations\n",
    "\n",
    "class Product:\n",
    "\n",
    "    def __init__(self, builder: ProductBuilder):\n",
    "        self.required_1 = builder.required_1\n",
    "        self.required_2 = builder.required_2\n",
    "        self.optional_1 = builder._optional_1\n",
    "        self.optional_2 = builder._optional_2\n",
    "\n",
    "class ProductBuilder:\n",
    "\n",
    "    # 해당 Builder 객체를 Product 내부에 두어도 좋을 것 같다.\n",
    "    # product = Product.Builder(...).optional...\n",
    "\n",
    "    def __init__(self, required_1, required_2):\n",
    "        self.required_1 = required_1\n",
    "        self.required_2 = required_2\n",
    "        self._optional_1 = None\n",
    "        self._optional_2 = None\n",
    "\n",
    "    def build(self):\n",
    "        return Product(self)\n",
    "    \n",
    "    def optional_1(self, optional_1):\n",
    "        self._optional_1=optional_1\n",
    "        return self\n",
    "\n",
    "    def optional_2(self, optional_2):\n",
    "        self._optional_2=optional_2\n",
    "        return self\n",
    "\n",
    "product_1 = ProductBuilder(1, 2).build()\n",
    "product_2 = ProductBuilder(1, 2).optional_1(3).optional_2(4).build()\n",
    "\n",
    "print(product_1.__dict__)\n",
    "print(product_2.__dict__)"
   ]
  },
  {
   "cell_type": "code",
   "execution_count": 53,
   "metadata": {},
   "outputs": [
    {
     "name": "stdout",
     "output_type": "stream",
     "text": [
      "<class '__main__.Some'>\n",
      "<class '__main__.Tome'>\n"
     ]
    }
   ],
   "source": [
    "# 하나의 생성 과정을 여러 타입의 객체 생성에 활용하는 패턴\n",
    "from abc import ABCMeta, abstractmethod\n",
    "from typing import Any\n",
    "\n",
    "\n",
    "# 하나의 생성 과정...\n",
    "def build(builder: AbstractBuilder):\n",
    "    builder.part_1(1)\n",
    "    return builder.build()\n",
    "\n",
    "\n",
    "# Products...\n",
    "class Some:\n",
    "\n",
    "    def __init__(self, builder: SomeBuilder):\n",
    "        ...\n",
    "\n",
    "class Tome:\n",
    "\n",
    "    def __init__(self, builder: TomeBuilder):\n",
    "        ...\n",
    "\n",
    "\n",
    "# Builders...\n",
    "class AbstractBuilder(metaclass=ABCMeta):\n",
    "\n",
    "    @abstractmethod\n",
    "    def part_1(self, value):\n",
    "        ...\n",
    "    \n",
    "    @abstractmethod\n",
    "    def build(self) -> Any:\n",
    "        ...\n",
    "\n",
    "\n",
    "class SomeBuilder(AbstractBuilder):\n",
    "\n",
    "    def __init__(self):\n",
    "        self._part_1 = None\n",
    "\n",
    "    def part_1(self, value):\n",
    "        self._part_1 = value\n",
    "    \n",
    "    def build(self):\n",
    "        return Some(self)\n",
    "\n",
    "\n",
    "class TomeBuilder(AbstractBuilder):\n",
    "\n",
    "    def __init__(self):\n",
    "        self._part_1 = None\n",
    "\n",
    "    def part_1(self, value):\n",
    "        self._part_1 = value\n",
    "    \n",
    "    def build(self):\n",
    "        return Tome(self)\n",
    "\n",
    "\n",
    "if __name__ == \"__main__\":\n",
    "    some_builder = SomeBuilder()\n",
    "    some = build(some_builder)\n",
    "\n",
    "    tome_builder = TomeBuilder()\n",
    "    tome = build(tome_builder)\n",
    "\n",
    "    print(type(some))\n",
    "    print(type(tome))"
   ]
  }
 ],
 "metadata": {
  "interpreter": {
   "hash": "c2628c66a632ba2b69e6a5b3a4dad634af81f317f443884fc2584f16d8e329ae"
  },
  "kernelspec": {
   "display_name": "Python 3.9.6 64-bit ('fastapi': conda)",
   "language": "python",
   "name": "python3"
  },
  "language_info": {
   "codemirror_mode": {
    "name": "ipython",
    "version": 3
   },
   "file_extension": ".py",
   "mimetype": "text/x-python",
   "name": "python",
   "nbconvert_exporter": "python",
   "pygments_lexer": "ipython3",
   "version": "3.9.6"
  },
  "orig_nbformat": 4
 },
 "nbformat": 4,
 "nbformat_minor": 2
}
