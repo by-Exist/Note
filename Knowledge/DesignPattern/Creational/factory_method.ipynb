{
 "cells": [
  {
   "cell_type": "markdown",
   "metadata": {},
   "source": [
    "# Factory Method (팩토리 메서드)\n",
    "\n",
    "    \"슈퍼 클래스에서 객체를 생성하는 인터페이스를 제공하고 서브 클래스에서 생성될 객체의 유형을 변경할 수 있도록 할 수는 없을까?\""
   ]
  },
  {
   "cell_type": "markdown",
   "metadata": {},
   "source": [
    "## 정의\n",
    "\n",
    "슈퍼클래스에서 특정 객체 생성 인터페이스를 제공하고 서브클래스에서 해당 객체의 타입을 변경할 수 있도록 하는 생성 패턴"
   ]
  },
  {
   "cell_type": "markdown",
   "metadata": {},
   "source": [
    "## 구현"
   ]
  },
  {
   "cell_type": "code",
   "execution_count": 1,
   "metadata": {},
   "outputs": [],
   "source": [
    "from __future__ import annotations\n",
    "from typing import ClassVar, Callable\n",
    "from abc import ABCMeta, abstractmethod\n",
    "\n",
    "\n",
    "class AbstractProduct(metaclass=ABCMeta):\n",
    "    @abstractmethod\n",
    "    def operation(self) -> str:\n",
    "        ...\n",
    "\n",
    "\n",
    "class ProductA(AbstractProduct):\n",
    "    def operation(self) -> str:\n",
    "        return \"ProductA Operation.\"\n",
    "\n",
    "\n",
    "class ProductB(AbstractProduct):\n",
    "    def operation(self) -> str:\n",
    "        return \"ProductB Operation.\"\n",
    "\n",
    "# We can add other product class..."
   ]
  },
  {
   "cell_type": "code",
   "execution_count": 46,
   "metadata": {},
   "outputs": [
    {
     "name": "stdout",
     "output_type": "stream",
     "text": [
      "ProductB Operation.\n"
     ]
    }
   ],
   "source": [
    "# Using class attribute\n",
    "class GenericCreator:\n",
    "    \n",
    "    factory: ClassVar[Callable[[], AbstractProduct]]\n",
    "\n",
    "    def operation(self):\n",
    "        product = self.factory()\n",
    "        return product.operation()\n",
    "\n",
    "\n",
    "class CreatorB(GenericCreator):\n",
    "\n",
    "    factory = ProductB\n",
    "\n",
    "\n",
    "creator = CreatorB()\n",
    "print(creator.operation())"
   ]
  },
  {
   "cell_type": "code",
   "execution_count": null,
   "metadata": {},
   "outputs": [],
   "source": [
    "# Using ABC\n",
    "class AbstractCreator(metaclass=ABCMeta):\n",
    "    @abstractmethod\n",
    "    def factory_method(self) -> AbstractProduct:\n",
    "        ...\n",
    "\n",
    "    def operation(self):\n",
    "        product = self.factory_method()\n",
    "        return product.operation()\n",
    "\n",
    "\n",
    "class CreatorA(AbstractCreator):\n",
    "    def factory_method(self) -> AbstractProduct:\n",
    "        return ProductA()\n",
    "\n",
    "\n",
    "creator = CreatorA()\n",
    "print(creator.operation())"
   ]
  },
  {
   "cell_type": "markdown",
   "metadata": {},
   "source": [
    "내부 사용 객체(product)를 생성하는 인터페이스(factory_method 메서드, factory 클래스 변수)를 정의하고, 서브클래스에서 해당 객체의 타입을 정해주는 패턴이다.\n",
    "\n",
    "- 새로운 Product 클래스를 정의하더라도 기존 코드의 동작에 문제없다.\n",
    "- 또한 creator.operation()이 수행될 때 creator.produce = factory()로 재사용할 수도 있다.\n",
    "\n",
    "Class attribute를 활용하는 방식은 개인적으로 선호하는 편인데, 단점이 있을까?\n",
    "\n",
    "- Product 생성 시 인자가 필요할 경우 => factory = lambda self : return Product(...) 방식으로 해결할 수 있다."
   ]
  }
 ],
 "metadata": {
  "interpreter": {
   "hash": "c2628c66a632ba2b69e6a5b3a4dad634af81f317f443884fc2584f16d8e329ae"
  },
  "kernelspec": {
   "display_name": "Python 3.9.6 64-bit ('fastapi': conda)",
   "language": "python",
   "name": "python3"
  },
  "language_info": {
   "codemirror_mode": {
    "name": "ipython",
    "version": 3
   },
   "file_extension": ".py",
   "mimetype": "text/x-python",
   "name": "python",
   "nbconvert_exporter": "python",
   "pygments_lexer": "ipython3",
   "version": "3.9.6"
  },
  "orig_nbformat": 4
 },
 "nbformat": 4,
 "nbformat_minor": 2
}
