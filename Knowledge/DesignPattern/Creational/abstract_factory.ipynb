{
 "cells": [
  {
   "cell_type": "markdown",
   "metadata": {},
   "source": [
    "# Abstract Factory (추상 팩토리)\n",
    "\n",
    "    \"객체군이 병렬적이라서 단일 객체군 선택을 쉽게 할 수는 없을까?\""
   ]
  },
  {
   "cell_type": "markdown",
   "metadata": {},
   "source": [
    "## 정의\n",
    "\n",
    "구체적인 클래스를 지정하지 않고 전체 제품군을 생성하는 문제를 해결하는 패턴.\n",
    "\n",
    "|  | 마우스 | 키보드 | 모니터 |\n",
    "| --- | --- | --- | --- |\n",
    "| 삼성 | 삼성 마우스 | 삼성 키보드 | 삼성 모니터 |\n",
    "| 애플 | 애플 마우스 | 애플 키보드 | 애플 모니터 |\n",
    "| 잡 | 잡 마우스 | 잡 키보드 | 잡 모니터 |\n",
    "\n",
    "abstract factory 패턴을 쓰지 않을 때\n",
    "```\n",
    "mouse = mouse.AppleMouse()\n",
    "keyboard = keyboard.AppleKeyboard()\n",
    "moniter = moniter.AppleMoniter()\n",
    "```\n",
    "\n",
    "abstract factory 패턴을 사용할 때\n",
    "```\n",
    "factory = AppleFactory()\n",
    "mouse = factory.create_mouse()\n",
    "keyboard = factory.create_keyboard()\n",
    "moniter = factory.create_moniter()\n",
    "```"
   ]
  },
  {
   "cell_type": "markdown",
   "metadata": {},
   "source": [
    "## 구현"
   ]
  },
  {
   "cell_type": "code",
   "execution_count": 6,
   "metadata": {},
   "outputs": [
    {
     "name": "stdout",
     "output_type": "stream",
     "text": [
      "애플 마우스 클릭\n",
      "애플 키보드 입력\n",
      "애플 모니터 출력\n"
     ]
    }
   ],
   "source": [
    "from abc import abstractmethod, ABCMeta\n",
    "\n",
    "\n",
    "# Abstract Classes\n",
    "class AbstractMouse(metaclass=ABCMeta):\n",
    "    @abstractmethod\n",
    "    def click(self):\n",
    "        ...\n",
    "\n",
    "class AbstractKeyboard(metaclass=ABCMeta):\n",
    "    @abstractmethod\n",
    "    def push(self):\n",
    "        ...\n",
    "\n",
    "class AbstractMoniter(metaclass=ABCMeta):\n",
    "    @abstractmethod\n",
    "    def print(self):\n",
    "        ...\n",
    "\n",
    "class AbstractFactory(metaclass=ABCMeta):\n",
    "\n",
    "    @abstractmethod\n",
    "    def create_mouse(self) -> AbstractMouse:\n",
    "        ...\n",
    "\n",
    "    @abstractmethod\n",
    "    def create_keyboard(self) -> AbstractKeyboard:\n",
    "        ...\n",
    "\n",
    "    @abstractmethod\n",
    "    def create_moniter(self) -> AbstractMoniter:\n",
    "        ...\n",
    "\n",
    "# Apple 제품군\n",
    "class AppleMouse(AbstractMouse):\n",
    "    def click(self):\n",
    "        print(\"애플 마우스 클릭\")\n",
    "\n",
    "class AppleKeyboard(AbstractKeyboard):\n",
    "    def push(self):\n",
    "        print(\"애플 키보드 입력\")\n",
    "\n",
    "class AppleMoniter(AbstractMoniter):\n",
    "    def print(self):\n",
    "        print(\"애플 모니터 출력\")\n",
    "\n",
    "class AppleFactory(AbstractFactory):\n",
    "    def create_mouse(self):\n",
    "        return AppleMouse()\n",
    "    \n",
    "    def create_keyboard(self):\n",
    "        return AppleKeyboard()\n",
    "    \n",
    "    def create_moniter(self):\n",
    "        return AppleMoniter()\n",
    "\n",
    "# 기타 여러 제품군들...\n",
    "\n",
    "factory = AppleFactory()\n",
    "\n",
    "mouse = factory.create_mouse()\n",
    "mouse.click()\n",
    "keyboard = factory.create_keyboard()\n",
    "keyboard.push()\n",
    "moniter = factory.create_moniter()\n",
    "moniter.print()"
   ]
  }
 ],
 "metadata": {
  "interpreter": {
   "hash": "c2628c66a632ba2b69e6a5b3a4dad634af81f317f443884fc2584f16d8e329ae"
  },
  "kernelspec": {
   "display_name": "Python 3.9.6 64-bit ('fastapi': conda)",
   "language": "python",
   "name": "python3"
  },
  "language_info": {
   "codemirror_mode": {
    "name": "ipython",
    "version": 3
   },
   "file_extension": ".py",
   "mimetype": "text/x-python",
   "name": "python",
   "nbconvert_exporter": "python",
   "pygments_lexer": "ipython3",
   "version": "3.9.6"
  },
  "orig_nbformat": 4
 },
 "nbformat": 4,
 "nbformat_minor": 2
}
