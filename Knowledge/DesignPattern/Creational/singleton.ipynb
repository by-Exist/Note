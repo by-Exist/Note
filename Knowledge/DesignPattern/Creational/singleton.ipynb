{
 "cells": [
  {
   "cell_type": "markdown",
   "metadata": {},
   "source": [
    "# Singleton (싱글톤)\n",
    "\n",
    "    \"생성자를 여러번 호출하더라도 한 인스턴스만 반환하게 할 수는 없을까?\""
   ]
  },
  {
   "cell_type": "markdown",
   "metadata": {},
   "source": [
    "## 정의\n",
    "\n",
    "특정 클래스의 생성자를 호출할 경우 오로지 단일 객체를 반환하는 패턴.\n",
    "모든 클라이언트가 단일 인스턴스만을 사용하도록 하고 싶은 경우 싱글톤 패턴을 사용할 수 있다.\n",
    "\n",
    "그러나,\n",
    "- 멀티 스레드 환경에서 싱글톤을 사용한다고 해도 GIL의 영향으로 인해 비효율적이며\n",
    "- 전역적으로 접근을 허용한 모듈(settings.py)에 정의해놓은 객체를 사용하는 것으로도 웬만하면 충분하다.\n",
    "\n",
    "해당 패턴이 안티패턴인지 아닌지에 대한 토론은 배제한다."
   ]
  },
  {
   "cell_type": "markdown",
   "metadata": {},
   "source": [
    "## 구현"
   ]
  },
  {
   "cell_type": "code",
   "execution_count": 34,
   "metadata": {},
   "outputs": [],
   "source": [
    "from __future__ import annotations\n",
    "from typing import Any\n",
    "from threading import Lock\n",
    "\n",
    "\n",
    "class SingletonMeta(type):\n",
    "\n",
    "    _instances = {}\n",
    "        \n",
    "    def __call__(cls, *args, **kwargs):\n",
    "        if cls not in cls._instances:\n",
    "            singleton_instance = super().__call__(*args, **kwargs)\n",
    "            cls._instances[cls] = singleton_instance\n",
    "        return cls._instances[cls]\n",
    "\n",
    "\n",
    "# class ThreadSafeSingletonMeta(type):\n",
    "\n",
    "#     _instances = {}\n",
    "#     _lock: Lock = Lock()\n",
    "        \n",
    "#     def __call__(cls, *args, **kwargs):\n",
    "#         with cls._lock:\n",
    "#             if cls not in cls._instances:\n",
    "#                 singleton_instance = super().__call__(*args, **kwargs)\n",
    "#                 cls._instances[cls] = singleton_instance\n",
    "#             return cls._instances[cls]\n",
    "\n",
    "\n",
    "class Singleton(metaclass=SingletonMeta):\n",
    "    ...\n",
    "\n",
    "\n",
    "if __name__ == \"__main__\":\n",
    "    s1 = Singleton()\n",
    "    s2 = Singleton()\n",
    "\n",
    "    assert s1 is s2"
   ]
  }
 ],
 "metadata": {
  "interpreter": {
   "hash": "c2628c66a632ba2b69e6a5b3a4dad634af81f317f443884fc2584f16d8e329ae"
  },
  "kernelspec": {
   "display_name": "Python 3.9.6 64-bit ('fastapi': conda)",
   "language": "python",
   "name": "python3"
  },
  "language_info": {
   "codemirror_mode": {
    "name": "ipython",
    "version": 3
   },
   "file_extension": ".py",
   "mimetype": "text/x-python",
   "name": "python",
   "nbconvert_exporter": "python",
   "pygments_lexer": "ipython3",
   "version": "3.9.6"
  },
  "orig_nbformat": 4
 },
 "nbformat": 4,
 "nbformat_minor": 2
}
