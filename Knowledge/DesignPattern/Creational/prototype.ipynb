{
 "cells": [
  {
   "cell_type": "markdown",
   "metadata": {},
   "source": [
    "# Prototype (프로토 타입)\n",
    "\n",
    "    \"기존 객체로부터 객체를 만들 수는 없을까?\""
   ]
  },
  {
   "cell_type": "markdown",
   "metadata": {},
   "source": [
    "## 정의\n",
    "\n",
    "클래스의 생성자를 호출하지 않고 기존 객체의 메서드를 통해 기존 객체의 사본 객체를 생성하는 패턴.\n",
    "\n",
    "클래스를 몰라도 객체를 생성할 수 있다는 점, 기존의 복잡하게 생성된 객체를 쉽게 카피할 수 있다는 점이 유용할 수 있다. 그러나 순환 참조가 있는 객체를 복사하는 건 까다로울 수 있다.\n",
    "\n",
    "해당 프로토콜은 파이썬의 copy 모듈이 지원한다. 특수 메서드 \\_\\_copy__, \\_\\_deepcopy__를 작성하여 얕은 복사와 깊은 복사를 직접 구현할 수 있다."
   ]
  },
  {
   "cell_type": "markdown",
   "metadata": {},
   "source": [
    "## 구현"
   ]
  },
  {
   "cell_type": "code",
   "execution_count": 28,
   "metadata": {},
   "outputs": [],
   "source": [
    "from __future__ import annotations\n",
    "from copy import copy, deepcopy\n",
    "\n",
    "\n",
    "class SelfReferencingEntity:\n",
    "    def __init__(self, parent: SelfReferencingEntity = None) -> None:\n",
    "        self.parent = parent\n",
    "\n",
    "\n",
    "class Componenet:\n",
    "\n",
    "    def __init__(self, immutable, mutable, circular_ref):\n",
    "        self.immutable = immutable\n",
    "        self.mutable = mutable\n",
    "        self.circular_ref = circular_ref\n",
    "\n",
    "    def __copy__(self):\n",
    "        # b = copy(a)\n",
    "        # assert a is not b\n",
    "        # assert a.x is a.x\n",
    "        new = type(self)(\n",
    "            self.immutable,\n",
    "            self.mutable,\n",
    "            self.circular_ref\n",
    "        )\n",
    "        new.__dict__.update(self.__dict__)\n",
    "        return new\n",
    "    \n",
    "    def __deepcopy__(self, memo: dict = {}):\n",
    "        # b = deepcopy(a)\n",
    "        # assert a is not b\n",
    "        # assert a.x is not a.x\n",
    "        # assert a.x.y... is not a.x.y...\n",
    "        new = type(self)(\n",
    "            self.immutable,\n",
    "            deepcopy(self.mutable, memo), \n",
    "            deepcopy(self.circular_ref, memo)\n",
    "        )\n",
    "        new.__dict__.update(deepcopy(self.__dict__, memo))\n",
    "        return new\n",
    "\n",
    "\n",
    "if __name__ == \"__main__\":\n",
    "\n",
    "    immutable = \"abc\"\n",
    "    mutable = [1, {1, 2, 3}, [1, 2, 3]]\n",
    "    circular_ref = SelfReferencingEntity(parent=SelfReferencingEntity())\n",
    "\n",
    "    component = Componenet(immutable, mutable, circular_ref)\n",
    "    shallow_copied_component = copy(component)\n",
    "    deep_copied_component = deepcopy(component)\n",
    "\n",
    "    # 모두 서로 다른 id를 지닌 다른 객체들이다.\n",
    "    assert component is not shallow_copied_component\n",
    "    assert component is not deep_copied_component\n",
    "\n",
    "    # 얕은 복사일 경우 내부 속성의 객체는 복사하지는 않는다.\n",
    "    assert component.mutable is shallow_copied_component.mutable\n",
    "    assert component.circular_ref is shallow_copied_component.circular_ref\n",
    "    assert component.circular_ref.parent is shallow_copied_component.circular_ref.parent\n",
    "\n",
    "    # 깊은 복사일 경우 내부 속성의 객체들도 재귀적으로 새로운 객체로 구성한다.\n",
    "    assert component.mutable is not deep_copied_component.mutable\n",
    "    assert component.circular_ref is not deep_copied_component.circular_ref\n",
    "    assert component.circular_ref.parent is not deep_copied_component.circular_ref.parent"
   ]
  }
 ],
 "metadata": {
  "interpreter": {
   "hash": "c2628c66a632ba2b69e6a5b3a4dad634af81f317f443884fc2584f16d8e329ae"
  },
  "kernelspec": {
   "display_name": "Python 3.9.6 64-bit ('fastapi': conda)",
   "language": "python",
   "name": "python3"
  },
  "language_info": {
   "codemirror_mode": {
    "name": "ipython",
    "version": 3
   },
   "file_extension": ".py",
   "mimetype": "text/x-python",
   "name": "python",
   "nbconvert_exporter": "python",
   "pygments_lexer": "ipython3",
   "version": "3.9.6"
  },
  "orig_nbformat": 4
 },
 "nbformat": 4,
 "nbformat_minor": 2
}
