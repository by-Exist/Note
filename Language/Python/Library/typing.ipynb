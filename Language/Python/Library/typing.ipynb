{
 "cells": [
  {
   "cell_type": "markdown",
   "metadata": {},
   "source": [
    "# typing - 형 힌트 지원"
   ]
  },
  {
   "cell_type": "markdown",
   "metadata": {},
   "source": [
    "---"
   ]
  },
  {
   "cell_type": "markdown",
   "metadata": {},
   "source": [
    "## [ Spectial types ]\n",
    "\n",
    "    타입 주석으로 직접 사용되는 타입들"
   ]
  },
  {
   "cell_type": "markdown",
   "metadata": {},
   "source": [
    "### Any\n",
    "\n",
    "모든 형과 호환"
   ]
  },
  {
   "cell_type": "code",
   "execution_count": 71,
   "metadata": {},
   "outputs": [],
   "source": [
    "from typing import Any\n",
    "\n",
    "anything: Any"
   ]
  },
  {
   "cell_type": "markdown",
   "metadata": {},
   "source": [
    "### NoReturn\n",
    "\n",
    "return 값이 없을 때 활용"
   ]
  },
  {
   "cell_type": "code",
   "execution_count": 72,
   "metadata": {},
   "outputs": [],
   "source": [
    "from typing import NoReturn\n",
    "\n",
    "def stop() -> NoReturn:\n",
    "    raise RuntimeError(\"no way\")"
   ]
  },
  {
   "cell_type": "markdown",
   "metadata": {},
   "source": [
    "### TypeAlias\n",
    "\n",
    "변수에 타입을 할당함으로써 정의하며 복잡한 타입의 구조를 단순화하는데에 유용\n",
    "\n",
    "None은 type(None)으로 자동으로 치환됨"
   ]
  },
  {
   "cell_type": "code",
   "execution_count": 73,
   "metadata": {},
   "outputs": [],
   "source": [
    "from typing import TypeAlias\n",
    "from collections.abc import Sequence\n",
    "\n",
    "Factors: TypeAlias = list[int]\n",
    "\n",
    "ConnectionOptions = dict[str, str]\n",
    "Address = tuple[str, int]\n",
    "Server = tuple[Address, ConnectionOptions]\n",
    "ServerSequence = Sequence[Server]  # == Sequence[tuple[tuple[str, int], dict[str, str]]]"
   ]
  },
  {
   "cell_type": "markdown",
   "metadata": {},
   "source": [
    "## [ Special forms ]\n",
    "\n",
    "    타입 주석으로 사용되며 []를 활용해 추가적인 정보를 지정할 수 있는 타입들"
   ]
  },
  {
   "cell_type": "markdown",
   "metadata": {},
   "source": [
    "### Tuple"
   ]
  },
  {
   "cell_type": "code",
   "execution_count": 74,
   "metadata": {},
   "outputs": [],
   "source": [
    "some_tuple: tuple[int, str]"
   ]
  },
  {
   "cell_type": "markdown",
   "metadata": {},
   "source": [
    "### Union"
   ]
  },
  {
   "cell_type": "code",
   "execution_count": 75,
   "metadata": {},
   "outputs": [],
   "source": [
    "# 중복 무시, 순서 무시\n",
    "int_str_float: int | str | float"
   ]
  },
  {
   "cell_type": "markdown",
   "metadata": {},
   "source": [
    "### Optional"
   ]
  },
  {
   "cell_type": "code",
   "execution_count": 76,
   "metadata": {},
   "outputs": [],
   "source": [
    "optional_int: int | None"
   ]
  },
  {
   "cell_type": "markdown",
   "metadata": {},
   "source": [
    "### Callable"
   ]
  },
  {
   "cell_type": "code",
   "execution_count": 77,
   "metadata": {},
   "outputs": [],
   "source": [
    "from collections.abc import Callable\n",
    "\n",
    "any_function: Callable[..., Any]  # 호출 서명 생략\n",
    "add_function: Callable[[int, int], int]"
   ]
  },
  {
   "cell_type": "markdown",
   "metadata": {},
   "source": [
    "### Concatenate\n",
    "\n",
    "Callable의 인수 부분에 사용됨\n",
    "\n",
    "Concatenate[Arg1Type, Arg2Type, ..., ParamSpecVariable]"
   ]
  },
  {
   "cell_type": "code",
   "execution_count": 78,
   "metadata": {},
   "outputs": [
    {
     "data": {
      "text/plain": [
       "6.6"
      ]
     },
     "execution_count": 78,
     "metadata": {},
     "output_type": "execute_result"
    }
   ],
   "source": [
    "from threading import Lock\n",
    "from typing import Concatenate, ParamSpec, TypeVar\n",
    "\n",
    "P = ParamSpec('P')\n",
    "R = TypeVar('R')\n",
    "\n",
    "my_lock = Lock()\n",
    "\n",
    "def with_lock(f: Callable[Concatenate[Lock, P], R]) -> Callable[P, R]:\n",
    "    def inner(*args: P.args, **kwargs: P.kwargs) -> R:\n",
    "        return f(my_lock, *args, **kwargs)\n",
    "    return inner\n",
    "\n",
    "@with_lock\n",
    "def sum_threadsafe(lock: Lock, numbers: list[float]) -> float:\n",
    "    with lock:\n",
    "        return sum(numbers)\n",
    "\n",
    "sum_threadsafe([1.1, 2.2, 3.3])"
   ]
  },
  {
   "cell_type": "markdown",
   "metadata": {},
   "source": [
    "### Type\n",
    "\n",
    "타입 주석으로 인스턴스가 아닌 클래스 자체를 제공하기 위해 사용\n",
    "\n",
    "type[C]는 공변적(C 및 C의 서브 클래스 또한 허용)"
   ]
  },
  {
   "cell_type": "code",
   "execution_count": 79,
   "metadata": {},
   "outputs": [],
   "source": [
    "int_instance: int\n",
    "int_type: type[int] = int"
   ]
  },
  {
   "cell_type": "markdown",
   "metadata": {},
   "source": [
    "### Literal\n",
    "\n",
    "'이것들 중 하나'를 표현할 때 사용"
   ]
  },
  {
   "cell_type": "code",
   "execution_count": 80,
   "metadata": {},
   "outputs": [],
   "source": [
    "from typing import Literal\n",
    "\n",
    "boolean: Literal[True, False]\n",
    "file_mode: Literal[\"r\", \"rg\", \"w\", \"wb\"]"
   ]
  },
  {
   "cell_type": "markdown",
   "metadata": {},
   "source": [
    "### ClassVar\n",
    "\n",
    "클래스 변수임을 표시하기 위해 활용"
   ]
  },
  {
   "cell_type": "code",
   "execution_count": 81,
   "metadata": {},
   "outputs": [],
   "source": [
    "from typing import ClassVar\n",
    "\n",
    "class Starship:\n",
    "    stats: ClassVar[dict[str, int]] = {} \n",
    "    damage: int = 10                     \n",
    "\n",
    "enterprise_d = Starship()\n",
    "enterprise_d.stats = {}  # Error!\n",
    "Starship.stats = {}\n"
   ]
  },
  {
   "cell_type": "markdown",
   "metadata": {},
   "source": [
    "### Final\n",
    "\n",
    "정의 이후 대입 금지임을 표시하기 위해 활용"
   ]
  },
  {
   "cell_type": "code",
   "execution_count": 82,
   "metadata": {},
   "outputs": [],
   "source": [
    "from typing import Final\n",
    "\n",
    "MAX_SIZE: Final = \"origin\"\n",
    "MAX_SIZE = \"other\"  # Error!\n",
    "\n",
    "class Base:\n",
    "    F: Final[int] = \"origin\"  # Error!\n",
    "\n",
    "class Sub(Base):\n",
    "    F = \"other\"  # Error!"
   ]
  },
  {
   "cell_type": "markdown",
   "metadata": {},
   "source": [
    "### Annotated\n",
    "\n",
    "타입 분석 도구(mypy같은)를 직접 다루는 게 아니라면 사용할 일이 없음"
   ]
  },
  {
   "cell_type": "markdown",
   "metadata": {},
   "source": [
    "### TypeGuard\n",
    "\n",
    "boolean을 반환하는 사용자 정의 함수의 반환 유형에 사용되는 특수 폼.\n",
    "\n",
    "조건문에서 해당 함수의 boolean 값을 판단하여 변수의 타입 범위를 좁히는데에 사용됨"
   ]
  },
  {
   "cell_type": "code",
   "execution_count": 83,
   "metadata": {},
   "outputs": [],
   "source": [
    "from typing import TypeGuard\n",
    "\n",
    "def is_str_list(values: list[Any]) -> TypeGuard[list[str]]:\n",
    "    return all(isinstance(x, str) for x in values)\n",
    "\n",
    "def func(values: list[Any]):\n",
    "    if is_str_list(values):\n",
    "        values  # list[str]\n",
    "        return\n",
    "    values  # list"
   ]
  },
  {
   "cell_type": "markdown",
   "metadata": {},
   "source": [
    "## [ Building generic types ]\n",
    "\n",
    "    타입 주석으로 사용되지 않으며 제네릭 클래스 또는 함수 정의를 돕는 타입들"
   ]
  },
  {
   "cell_type": "markdown",
   "metadata": {},
   "source": [
    "### Generic\n",
    "\n",
    "제네릭 형을 정의하는데에 사용되는 ABC\n",
    "\n",
    "인스턴스화된 Generic(하나 이상의 TypeVar 인스턴스를 []에 제공받은)을 상속하여 제네릭형이 선언됨\n",
    "\n",
    "사용 시 []에 실제로 사용될 타입을 삽입하여 타입 주석을 제공받음"
   ]
  },
  {
   "cell_type": "code",
   "execution_count": 84,
   "metadata": {},
   "outputs": [],
   "source": [
    "from typing import Generic, TypeVar\n",
    "\n",
    "\n",
    "T = TypeVar(\"T\")\n",
    "\n",
    "class Node(Generic[T]): ...  # type: ignore\n",
    "\n",
    "node = Node()  # Node[Unknown] Error!\n",
    "node2: Node[int] = Node()  # 강제로 지정 가능"
   ]
  },
  {
   "cell_type": "code",
   "execution_count": 85,
   "metadata": {},
   "outputs": [],
   "source": [
    "class Node(Generic[T]):\n",
    "    x: T|None = None\n",
    "    def __init__(self, label: T = None) -> None: ...\n",
    "\n",
    "# TypeVar가 __new__ 또는 __init__에 사용되면 인자의 타입으로 유형이 추론됨\n",
    "none_node = Node()\n",
    "int_node = Node(0)\n",
    "int_node.x  # int | None\n",
    "str_node = Node(\"\")\n",
    "str_node.x  # str | None\n",
    "\n",
    "# 깡으로 쓰기 보다\n",
    "# TypeAlias를 쓰는 편이 가독성에 좋음\n",
    "node: Node[int] = Node(1)\n",
    "IntNode = Node[int]\n",
    "node: IntNode = Node(1)"
   ]
  },
  {
   "cell_type": "code",
   "execution_count": 86,
   "metadata": {},
   "outputs": [
    {
     "ename": "TypeError",
     "evalue": "iter() returned non-iterator of type 'NoneType'",
     "output_type": "error",
     "traceback": [
      "\u001b[1;31m---------------------------------------------------------------------------\u001b[0m",
      "\u001b[1;31mTypeError\u001b[0m                                 Traceback (most recent call last)",
      "Input \u001b[1;32mIn [86]\u001b[0m, in \u001b[0;36m<module>\u001b[1;34m\u001b[0m\n\u001b[0;32m     23\u001b[0m         emp \n\u001b[0;32m     25\u001b[0m managers \u001b[38;5;241m=\u001b[39m ImmutableList([Manager(), Manager()])\n\u001b[1;32m---> 26\u001b[0m \u001b[43mdump_employees\u001b[49m\u001b[43m(\u001b[49m\u001b[43mmanagers\u001b[49m\u001b[43m)\u001b[49m\n\u001b[0;32m     28\u001b[0m \u001b[38;5;66;03m# 공변 및 반공변 설정은 제네릭 클래스에서 사용되는 개념이므로 일반 함수에서는 사용 안됨\u001b[39;00m\n\u001b[0;32m     29\u001b[0m \u001b[38;5;28;01mdef\u001b[39;00m \u001b[38;5;21mtest\u001b[39m(x: T_co): \u001b[38;5;241m.\u001b[39m\u001b[38;5;241m.\u001b[39m\u001b[38;5;241m.\u001b[39m\n",
      "Input \u001b[1;32mIn [86]\u001b[0m, in \u001b[0;36mdump_employees\u001b[1;34m(emps)\u001b[0m\n\u001b[0;32m     21\u001b[0m \u001b[38;5;28;01mdef\u001b[39;00m \u001b[38;5;21mdump_employees\u001b[39m(emps: ImmutableList[Employee]) \u001b[38;5;241m-\u001b[39m\u001b[38;5;241m>\u001b[39m \u001b[38;5;28;01mNone\u001b[39;00m: \n\u001b[1;32m---> 22\u001b[0m     \u001b[38;5;28;01mfor\u001b[39;00m emp \u001b[38;5;129;01min\u001b[39;00m emps:\n\u001b[0;32m     23\u001b[0m         emp\n",
      "\u001b[1;31mTypeError\u001b[0m: iter() returned non-iterator of type 'NoneType'"
     ]
    }
   ],
   "source": [
    "from collections.abc import Iterable, Iterator\n",
    "\n",
    "# 공변(covariant), 반공변(contravariant), 무공변(invariant)\n",
    "# https://blog.magrathealabs.com/pythons-covariance-and-contravariance-b422c63f57ac#:~:text=In%20Python%2C%20declaring%20if%20a,are%20covariant%20and%20_contra%20%2C%20contravariant.\n",
    "# https://medium.com/@lazysoul/%EA%B3%B5%EB%B3%80%EA%B3%BC-%EB%B6%88%EB%B3%80-297cadba191\n",
    "\n",
    "class Employee: ...\n",
    "class Manager(Employee): ...\n",
    "\n",
    "# 무공변 = 자신타입만 허용\n",
    "T_v = TypeVar(\"T_v\")\n",
    "# 공변 = 자신타입 및 서브타입 허용, *_co\n",
    "T_co = TypeVar(\"T_co\", covariant=True)  \n",
    "# 반공변 = 자신타입 및 슈퍼타입 허용, *_contra\n",
    "T_contra = TypeVar(\"T_contra\", contravariant=True)\n",
    "\n",
    "class ImmutableList(Generic[T_co]):\n",
    "    def __init__(self, items: Iterable[T_co]) -> None: ...\n",
    "    def __iter__(self) -> Iterator[T_co]: ...\n",
    "\n",
    "def dump_employees(emps: ImmutableList[Employee]) -> None: \n",
    "    for emp in emps:\n",
    "        emp \n",
    "\n",
    "managers = ImmutableList([Manager(), Manager()])\n",
    "dump_employees(managers)\n",
    "\n",
    "# 공변 및 반공변 설정은 제네릭 클래스에서 사용되는 개념이므로 일반 함수에서는 사용 안됨\n",
    "def test(x: T_co): ..."
   ]
  },
  {
   "cell_type": "markdown",
   "metadata": {},
   "source": [
    "### TypeVar\n",
    "\n",
    "제네릭형 또는 제네릭함수에 사용되는 타입 변수"
   ]
  },
  {
   "cell_type": "code",
   "execution_count": null,
   "metadata": {},
   "outputs": [],
   "source": [
    "from typing import TypeVar, Generic\n",
    "from collections.abc import Sequence, Iterable, Sized\n",
    "\n",
    "# 항상 대문자 변수에 직접 할당\n",
    "A = TypeVar(\"A\")\n",
    "\n",
    "# constrained 지정으로 해당 유형으로 제약 가능\n",
    "# 연산 결과는 해당 유형중 하나로 평가됨\n",
    "AC = TypeVar(\"AC\", str, bytes)\n",
    "\n",
    "# bound 지정으로 해당 유형의 서브타입으로 제약 가능\n",
    "AB = TypeVar(\"AB\", bound=Sized)\n",
    "\n",
    "# 제네릭 클래스에서만 사용되는 개념으로 공변 설정 가능\n",
    "D = TypeVar(\"D\")  # 무공변(자신 타입, 기본)\n",
    "D_co = TypeVar(\"D_co\", covariant=True)  # 공변(자신 및 서브 타입)\n",
    "D_contra = TypeVar(\"D_contra\", contravariant=True)  # 반공변 (자신 및 부모 타입)"
   ]
  },
  {
   "cell_type": "code",
   "execution_count": null,
   "metadata": {},
   "outputs": [],
   "source": [
    "B = TypeVar(\"B\")\n",
    "C = TypeVar(\"C\")\n",
    "\n",
    "# Generic의 []에 전달되지 않은 TypeVar는 클래스 스코프 내에서 사용 불가\n",
    "class MyOtherClass(Generic[B]):\n",
    "    x: list[B] = []\n",
    "    y: list[C] = []  # Error!\n",
    "\n",
    "# 메서드에서는 사용 가능\n",
    "class MyClass(Generic[B]):\n",
    "    def meth_1(self, x: B) -> B: ...\n",
    "    def meth_2(self, x: B) -> B: ...\n",
    "    def not_in_generic_type_var(self, x: B, y: C) -> C: ...  # Allow\n",
    "\n",
    "a: MyClass[int] = MyClass()  # a = MyClass[int]()\n",
    "result = a.meth_1(1)\n",
    "result = a.meth_2(\"a\")  # Error!\n",
    "result = a.not_in_generic_type_var(1, \"string\")  # str\n",
    "\n",
    "# 제네릭에 전달된 TypeVar는 해당 클래스 스코프 내에서만 활용 가능\n",
    "# 중첩된 클래스에서도 마찬가지\n",
    "class Outer(Generic[C]):\n",
    "    class Inner(Iterable[C]):\n",
    "        ..."
   ]
  },
  {
   "cell_type": "markdown",
   "metadata": {},
   "source": [
    "### ParamSpec\n",
    "\n",
    "Callable의 매개변수 사양을 표현하는데에 사용되는 TypeVar의 특수 형태\n",
    "\n",
    "한 Callable의 매개변수 유형을 다른 Callable에 전달하는데에 사용됨"
   ]
  },
  {
   "cell_type": "code",
   "execution_count": null,
   "metadata": {},
   "outputs": [],
   "source": [
    "import logging\n",
    "\n",
    "\n",
    "T = TypeVar('T')  # type: ignore\n",
    "P = ParamSpec('P')  # type: ignore\n",
    "\n",
    "# def add_logging(f: Callable[..., Any]) -> Callable[..., Any]:\n",
    "def add_logging(f: Callable[P, T]) -> Callable[P, T]:\n",
    "    def inner(*args: P.args, **kwargs: P.kwargs):\n",
    "        # P.args: ParamSpecArgs\n",
    "        # P.kwargs: ParamSpecKwargs\n",
    "        logging.info(f'{f.__name__} was called')\n",
    "        return f(*args, **kwargs)\n",
    "    return inner\n",
    "\n",
    "@add_logging\n",
    "def add_two(x: float, y: float) -> float:\n",
    "    return x + y\n",
    "\n",
    "add_two"
   ]
  },
  {
   "cell_type": "markdown",
   "metadata": {},
   "source": [
    "## [ Other special directives ]\n",
    "\n",
    "    타입 주석으로 사용되지 않으며 타입을 선언하는데에 사용되는 타입들"
   ]
  },
  {
   "cell_type": "markdown",
   "metadata": {},
   "source": [
    "### NamedTuple\n",
    "\n",
    "collections.namedtuple을 쉽게 사용"
   ]
  },
  {
   "cell_type": "code",
   "execution_count": null,
   "metadata": {},
   "outputs": [],
   "source": [
    "from typing import NamedTuple\n",
    "\n",
    "class Employee(NamedTuple):\n",
    "    name: str\n",
    "    id: int = 3\n",
    "# == collections.namedtuple(\"Employee\", ['name', 'id'])\n",
    "\n",
    "e = Employee(\"홍길동\")\n",
    "e.name\n",
    "e.id"
   ]
  },
  {
   "cell_type": "markdown",
   "metadata": {},
   "source": [
    "### NewType\n",
    "\n",
    "아무것도 없는 서브클래스를 만들어 타이핑에 사용하고 싶을 때 대신 활용"
   ]
  },
  {
   "cell_type": "code",
   "execution_count": null,
   "metadata": {},
   "outputs": [],
   "source": [
    "from typing import NewType\n",
    "\n",
    "# class UserID(int): ...  # 이렇게 쓸거라면\n",
    "UserID = NewType(\"UserID\", int)  # 차라리 이렇게 쓰세요\n",
    "\n",
    "def get_user_by_id(id: UserID): ...\n",
    "\n",
    "get_user_by_id(1)  # Error\n",
    "get_user_by_id(UserID(1))"
   ]
  },
  {
   "cell_type": "markdown",
   "metadata": {},
   "source": [
    "### TypedDict\n",
    "\n",
    "타입 힌팅이 제공되는 딕셔너리"
   ]
  },
  {
   "cell_type": "code",
   "execution_count": null,
   "metadata": {},
   "outputs": [],
   "source": [
    "from typing import TypedDict\n",
    "\n",
    "class Point2D(TypedDict):\n",
    "    x: int\n",
    "    y: int\n",
    "    label: str\n",
    "\n",
    "p_a = Point2D(x=1, y=1, label=\"fdsa\")  # == dict(x=1, y=1, label=\"fdsa\")\n",
    "\n",
    "# [] 여기에서도 타입 힌팅이 제공된다!\n",
    "result = p_a[\"x\"]  # int\n",
    "result = p_a[\"y\"]  # int\n",
    "result = p_a[\"label\"]  # str"
   ]
  },
  {
   "cell_type": "markdown",
   "metadata": {},
   "source": [
    "## [ Generic concrete collections ]\n",
    "\n",
    "    내장 유형"
   ]
  },
  {
   "cell_type": "code",
   "execution_count": null,
   "metadata": {},
   "outputs": [],
   "source": [
    "d: dict[str, int]\n",
    "l: list[str]\n",
    "s: set[int]\n",
    "fs: frozenset[str]\n",
    "\n",
    "from collections import defaultdict, OrderedDict, ChainMap, Counter, deque\n",
    "\n",
    "dd: defaultdict[str, int]\n",
    "od: OrderedDict[str, int]\n",
    "cm: ChainMap[str, int]\n",
    "ct: Counter[str]\n",
    "dq: deque[int]\n",
    "\n",
    "from typing import IO\n",
    "\n",
    "tio: IO[str]\n",
    "bio: IO[bytes]\n",
    "\n",
    "from re import Match, Pattern\n",
    "\n",
    "tp: Pattern[str]\n",
    "bp: Pattern[bytes]\n",
    "tm: Match[str]\n",
    "bm: Match[bytes]"
   ]
  },
  {
   "cell_type": "markdown",
   "metadata": {},
   "source": [
    "## [ Abstract Base Classes ]\n",
    "\n",
    "    collections.abc, contextlib"
   ]
  },
  {
   "cell_type": "code",
   "execution_count": null,
   "metadata": {},
   "outputs": [],
   "source": [
    "from collections import abc\n",
    "import contextlib\n",
    "\n",
    "\n",
    "# Container\n",
    "def container_example(x: abc.Container[int]):\n",
    "    1 in x   # __contains__\n",
    "\n",
    "\n",
    "# Hashable\n",
    "def hashable_example(x: abc.Hashable):\n",
    "    hash(x)  # __hash__\n",
    "\n",
    "\n",
    "# Iterable\n",
    "def iterable_example(x: abc.Iterable[int]):\n",
    "    iter(x)  # __iter__\n",
    "\n",
    "\n",
    "# Iterator(Iterable)\n",
    "def iterator_example(x: abc.Iterator[int]):\n",
    "    next(x)  # __next__\n",
    "\n",
    "\n",
    "# Reversible(Iterable)\n",
    "def reversible_example(x: abc.Reversible[int]):\n",
    "    reversed(x)  # __reversed__\n",
    "\n",
    "\n",
    "# Generator(Iterator)\n",
    "# Generator[int, None, None] == Iterator[int]\n",
    "def generator_example(x: abc.Generator[int, float, str]):\n",
    "    x.send(0.1)         # send\n",
    "    x.throw(Exception)  # throw\n",
    "    x.close()           # close\n",
    "\n",
    "\n",
    "# Sized\n",
    "def sized_example(x: abc.Sized):\n",
    "    len(x)  # __len__\n",
    "\n",
    "\n",
    "# Callable\n",
    "def callable_example(x: abc.Callable[[int, int], int]):\n",
    "    x(1, 2)  # __call__\n",
    "\n",
    "\n",
    "# Collection(Sized, Iterable, Container)\n",
    "def collection_example(x: abc.Collection[int]):\n",
    "    ...\n",
    "\n",
    "\n",
    "# Sequence(Reversible, Collection)\n",
    "def sequence_example(x: abc.Sequence[int]):\n",
    "    x[1:3]      # __getitem__\n",
    "    x.index(2)  # index\n",
    "    x.count(1)  # count\n",
    "\n",
    "\n",
    "# MutableSequence(Sequence)\n",
    "def mutable_sequence_example(x: abc.MutableSequence[str]):\n",
    "    x.append('item')        # append\n",
    "    x.reverse()             # reverse\n",
    "    x.extend([\"v1\", 'v2'])  # extend\n",
    "    x.pop()                 # pop\n",
    "    x.remove(\"v2\")          # remove\n",
    "    x += [\"v4, v5\"]         # __iadd__\n",
    "\n",
    "\n",
    "# ByteString(Sequence)\n",
    "def byte_string_example(x: abc.ByteString):\n",
    "    ...\n",
    "\n",
    "\n",
    "# Set(Collection)\n",
    "def set_example(x: abc.Set[int], y: abc.Set[int]):\n",
    "    x == y           # __eq__\n",
    "    x != y           # __ne__\n",
    "    x > y            # __gt__\n",
    "    x >= y           # __ge__\n",
    "    x < y            # __lt__\n",
    "    x <= y           # __le__\n",
    "    x & y            # __and__\n",
    "    x | y            # __or__\n",
    "    x - y            # __sub__\n",
    "    x ^ y            # __xor__\n",
    "    x.isdisjoint(y)  # isdisjoint\n",
    "\n",
    "\n",
    "# MutableSet(Set)\n",
    "def mutable_set_example(x: abc.MutableSet[int], y: abc.MutableSet[int]):\n",
    "    x.clear()    # clear\n",
    "    x.pop()      # pop\n",
    "    x.remove(1)  # remove\n",
    "    x |= y       # __ior__\n",
    "    x &= y       # __iand__\n",
    "    x ^= y       # __ixor__\n",
    "    x -= y       # __isub__\n",
    "\n",
    "\n",
    "# Mapping(Collection)\n",
    "def mapping_example(x: abc.Mapping[str, int], y: abc.Mapping[str, int]):\n",
    "    x.keys()\n",
    "    x.values()\n",
    "    x.items()\n",
    "    x.get(\"key\")\n",
    "    x == y\n",
    "    x != y\n",
    "\n",
    "\n",
    "# MutableMapping(Mapping)\n",
    "def mutable_mapping_example(x: abc.MutableMapping[str, int], y: abc.Mapping[str, int]):\n",
    "    x[\"key\"] = 1            # __setitem__\n",
    "    del x['key']            # __delitem__\n",
    "    x.pop(\"key\", None)      # pop\n",
    "    x.popitem()             # popitem\n",
    "    x.clear()               # clear\n",
    "    x.update(y)             # update\n",
    "    x.setdefault(\"key\", 0)  # setdefault\n",
    "\n",
    "\n",
    "# MappingView(Sized)\n",
    "def mapping_view_example(x: abc.MappingView):\n",
    "    ...\n",
    "\n",
    "\n",
    "# ItemsView(MappingView, Set)\n",
    "def items_view_example(x: abc.ItemsView[str, str]):\n",
    "    ...\n",
    "\n",
    "\n",
    "# KeysView(MappingView, Set)\n",
    "def keys_view_example(x: abc.KeysView[str]):\n",
    "    ...\n",
    "\n",
    "\n",
    "# ValuesView(MappingView, Collection)\n",
    "def values_view_example(x: abc.ValuesView[str]):\n",
    "    ...\n",
    "\n",
    "\n",
    "# Awaitable\n",
    "async def awaitable_example(x: abc.Awaitable[int]):\n",
    "    await x  # __await__\n",
    "\n",
    "\n",
    "# Coroutine(Awaitable)\n",
    "async def coroutine_example(x: abc.Coroutine[int, str, float]):\n",
    "    x.send(\"string\")    # send\n",
    "    x.throw(Exception)  # throw\n",
    "    x.close()           # close\n",
    "\n",
    "\n",
    "# AsyncIterable\n",
    "async def async_iterable_example(x: abc.AsyncIterable[int]):\n",
    "    aiter(x)  # __aiter__\n",
    "    async for i in x:\n",
    "        i\n",
    "\n",
    "# AsyncIterator(AsyncIterable)\n",
    "async def async_iterator_example(x: abc.AsyncIterator[int]):\n",
    "    await anext(x)  # __anext__\n",
    "\n",
    "\n",
    "# AsyncGenerator(AsyncIterator)\n",
    "# AsyncGenerator[int, None] == AsyncIterator[int]\n",
    "async def async_generator_example(x: abc.AsyncGenerator[str, int]):\n",
    "    await x.asend(1)           # asend\n",
    "    await x.athrow(Exception)  # athrow\n",
    "    await x.aclose()           # aclose\n",
    "\n",
    "\n",
    "# ContextManager\n",
    "def context_manager_example(x: contextlib.AbstractContextManager[str]):\n",
    "    with x as i:  # __enter__, __exit__\n",
    "        i\n",
    "\n",
    "\n",
    "# AsyncContextManager\n",
    "async def async_context_manager_example(x: contextlib.AbstractAsyncContextManager[str]):\n",
    "    async with x as i:  # __aenter__, __aexit__\n",
    "        i"
   ]
  },
  {
   "cell_type": "markdown",
   "metadata": {},
   "source": [
    "## [ Protocol ]\n",
    "\n",
    "    runtime_checkable()로 사용 가능한 프로토콜들"
   ]
  },
  {
   "cell_type": "code",
   "execution_count": null,
   "metadata": {},
   "outputs": [],
   "source": [
    "import typing\n",
    "\n",
    "class Example:\n",
    "    ...\n",
    "\n",
    "issubclass(Example, typing.SupportsAbs)\n",
    "issubclass(Example, typing.SupportsBytes)\n",
    "issubclass(Example, typing.SupportsComplex)\n",
    "issubclass(Example, typing.SupportsFloat)\n",
    "issubclass(Example, typing.SupportsIndex)\n",
    "issubclass(Example, typing.SupportsInt)\n",
    "issubclass(Example, typing.SupportsRound)"
   ]
  },
  {
   "cell_type": "markdown",
   "metadata": {},
   "source": [
    "## [ Function and Decorators ]\n",
    "\n",
    "    여러 유틸성 함수 및 데코레이터"
   ]
  },
  {
   "cell_type": "markdown",
   "metadata": {},
   "source": [
    "### typing.cast\n",
    "\n",
    "정적 타입 검사기가 값을 다른 타입으로 인식하도록 변경 (쓸 일이 있을까?)"
   ]
  },
  {
   "cell_type": "code",
   "execution_count": null,
   "metadata": {},
   "outputs": [],
   "source": [
    "import typing\n",
    "\n",
    "x = 1.0                  # x: float\n",
    "x = typing.cast(str, x)  # x: str"
   ]
  },
  {
   "cell_type": "markdown",
   "metadata": {},
   "source": [
    "### typing.overload\n",
    "\n",
    "데코레이터로 활용되며, 인자의 타입에 따라 반환 타입을 다양하게 서술하고 싶을 때 활용"
   ]
  },
  {
   "cell_type": "code",
   "execution_count": null,
   "metadata": {},
   "outputs": [],
   "source": [
    "from typing import overload\n",
    "\n",
    "\n",
    "@overload\n",
    "def process(response: None) -> None: ...\n",
    "\n",
    "@overload\n",
    "def process(response: int) -> tuple[int, str]: ...\n",
    "\n",
    "@overload\n",
    "def process(response: bytes) -> str: ...\n",
    "\n",
    "@overload\n",
    "def process(response: Any) -> Any: ...\n",
    "\n",
    "def process(response: Any) -> Any: ...\n",
    "\n",
    "r = process(None)  # None\n",
    "r = process(1)     # tuple[int, str]\n",
    "r = process(b\"\")   # str\n",
    "r = process([])    # Any"
   ]
  },
  {
   "cell_type": "markdown",
   "metadata": {},
   "source": [
    "### typing.final\n",
    "\n",
    "재정의 불가 지정(메서드는 오버라이딩 불가, 클래스는 상속 불가)"
   ]
  },
  {
   "cell_type": "code",
   "execution_count": null,
   "metadata": {},
   "outputs": [],
   "source": [
    "from typing import final\n",
    "\n",
    "\n",
    "class Base:\n",
    "\n",
    "    @final\n",
    "    def done(self) -> None: ...\n",
    "\n",
    "class Sub(Base):\n",
    "\n",
    "    def done(self): ...\n",
    "\n",
    "\n",
    "@final\n",
    "class Leaf: ...\n",
    "\n",
    "class Other(Leaf): ..."
   ]
  },
  {
   "cell_type": "markdown",
   "metadata": {},
   "source": [
    "### [기타](https://docs.python.org/ko/3/library/typing.html#functions-and-decorators)\n",
    "\n",
    "용도를 떠올리기 어렵고 쓸 일이 거의 없다 싶은 것들은 제외"
   ]
  }
 ],
 "metadata": {
  "interpreter": {
   "hash": "d849309ea322bb2b09973651a5ddf896b15f8e040a48382c8f8194d50f0f0881"
  },
  "kernelspec": {
   "display_name": "Python 3.10.1 64-bit ('pydamain': conda)",
   "language": "python",
   "name": "python3"
  },
  "language_info": {
   "codemirror_mode": {
    "name": "ipython",
    "version": 3
   },
   "file_extension": ".py",
   "mimetype": "text/x-python",
   "name": "python",
   "nbconvert_exporter": "python",
   "pygments_lexer": "ipython3",
   "version": "3.10.1"
  },
  "orig_nbformat": 4
 },
 "nbformat": 4,
 "nbformat_minor": 2
}
