{
 "cells": [
  {
   "cell_type": "markdown",
   "metadata": {},
   "source": [
    "# Pytest"
   ]
  },
  {
   "cell_type": "markdown",
   "metadata": {},
   "source": [
    "---"
   ]
  },
  {
   "cell_type": "markdown",
   "metadata": {},
   "source": [
    "## 설치 및 시작하기\n"
   ]
  },
  {
   "cell_type": "markdown",
   "metadata": {},
   "source": [
    "### 간단한 첫번째 테스트"
   ]
  },
  {
   "cell_type": "code",
   "execution_count": null,
   "metadata": {},
   "outputs": [],
   "source": [
    "def func(x):\n",
    "    return x + 1\n",
    "\n",
    "def test_answer():\n",
    "    assert func(3) == 5"
   ]
  },
  {
   "cell_type": "markdown",
   "metadata": {},
   "source": [
    "```cmd\n",
    "pytest\n",
    "```\n",
    "\n",
    "현재 디렉토리 및 하위 디렉토리의 test_*.py 파일을 모두 테스트"
   ]
  },
  {
   "cell_type": "markdown",
   "metadata": {},
   "source": [
    "### 특정 예외 발생 확인"
   ]
  },
  {
   "cell_type": "code",
   "execution_count": null,
   "metadata": {},
   "outputs": [],
   "source": [
    "import pytest\n",
    "\n",
    "def f():\n",
    "    raise SystemExit(1)\n",
    "\n",
    "def test_mytest():\n",
    "    with pytest.raises(SystemExit):\n",
    "        f()"
   ]
  },
  {
   "cell_type": "markdown",
   "metadata": {},
   "source": [
    "### 클래스로 테스트 그룹화\n",
    "\n",
    "그룹화된 테스트 클래스는 Test* 형태의 이름이어야 함, test* 이름의 메서드를 모두 테스트\n",
    "\n",
    "그룹화, 클래스 내에만 제공되는 픽스쳐 등에 활용"
   ]
  },
  {
   "cell_type": "code",
   "execution_count": null,
   "metadata": {},
   "outputs": [],
   "source": [
    "class TestClass:\n",
    "    def test_one(self):\n",
    "        x = 'this'\n",
    "        assert 'h' in x\n",
    "    \n",
    "    def test_two(self):\n",
    "        x = \"hello\"\n",
    "        assert hasattr(x, \"check\")"
   ]
  },
  {
   "cell_type": "markdown",
   "metadata": {},
   "source": [
    "---"
   ]
  },
  {
   "cell_type": "markdown",
   "metadata": {},
   "source": [
    "## 프로젝트 레이아웃"
   ]
  },
  {
   "cell_type": "markdown",
   "metadata": {},
   "source": [
    "\n",
    "\n",
    "대략적으로 다음과 같이 설계하는 게 좋음, [이유](https://blog.ionelmc.ro/2014/05/25/python-packaging/#the-structure)\n",
    "\n",
    "```\n",
    "setup.py\n",
    "src/\n",
    "    mypkg/\n",
    "        __init__.py\n",
    "        app.py\n",
    "        view.py\n",
    "tests/\n",
    "    __init__.py\n",
    "    foo/\n",
    "        __init__.py\n",
    "        test_view.py\n",
    "    bar/\n",
    "        __init__.py\n",
    "        test_view.py\n",
    "\n",
    "```\n",
    "\n",
    "setup.py를 실행해 mypkg를 파이썬 환경에 설치함 -> tests 내의 테스트 코드 수행"
   ]
  },
  {
   "cell_type": "markdown",
   "metadata": {},
   "source": [
    "---"
   ]
  },
  {
   "cell_type": "markdown",
   "metadata": {},
   "source": [
    "## 사용법 및 호출"
   ]
  },
  {
   "cell_type": "markdown",
   "metadata": {},
   "source": [
    "### 종료코드\n",
    "\n",
    "pytest 실행 시\n",
    "- 0: 테스트 성공적\n",
    "- 1: 일부 테스트 실패\n",
    "- 2: 사용자 테스트 중단\n",
    "- 3: 테스트 진행 중 내부 오류\n",
    "- 4: pytest 잘못된 인자\n",
    "- 5: 테스트 없음"
   ]
  },
  {
   "cell_type": "markdown",
   "metadata": {},
   "source": [
    "### 픽스쳐 목록\n",
    "\n",
    "pytest --fixtures"
   ]
  },
  {
   "cell_type": "markdown",
   "metadata": {},
   "source": [
    "### N회 실패 시 중지\n",
    "\n",
    "실패 발견 시 종료 : pytest -x\n",
    "    \n",
    "실패 N회 발견 시 종료 : pytest --maxfail=2"
   ]
  },
  {
   "cell_type": "markdown",
   "metadata": {},
   "source": [
    "### 테스트 범위 선택\n",
    "\n",
    "모듈 : pytest test_module.py\n",
    "\n",
    "패키지 : pytest testing/"
   ]
  },
  {
   "cell_type": "markdown",
   "metadata": {},
   "source": [
    "---"
   ]
  },
  {
   "cell_type": "markdown",
   "metadata": {},
   "source": [
    "## Fixture"
   ]
  },
  {
   "cell_type": "markdown",
   "metadata": {},
   "source": [
    "### 테스트의 단계\n",
    "\n",
    "- Arrange: 준비\n",
    "- Act: 수행\n",
    "- Assert: 확인\n",
    "- Cleanup: 격리"
   ]
  },
  {
   "cell_type": "markdown",
   "metadata": {},
   "source": [
    "### Fixture 기본\n",
    "\n",
    "간단하게 말하면 의존성 주입"
   ]
  },
  {
   "cell_type": "code",
   "execution_count": null,
   "metadata": {},
   "outputs": [],
   "source": [
    "import pytest\n",
    "\n",
    "\n",
    "class Fruit:\n",
    "    def __init__(self, name):\n",
    "        self.name = name\n",
    "\n",
    "    def __eq__(self, other):\n",
    "        return self.name == other.name\n",
    "\n",
    "\n",
    "# [ Arrange ]\n",
    "@pytest.fixture\n",
    "def my_fruit():\n",
    "    return Fruit(\"apple\")\n",
    "\n",
    "@pytest.fixture\n",
    "def fruit_basket(my_fruit):  # fixture 중첩 가능ㅠ\n",
    "    return [Fruit(\"banana\"), my_fruit]\n",
    "\n",
    "\n",
    "# [ Act ]\n",
    "def test_my_fruit_in_basket(my_fruit, fruit_basket):  # fixture 여러개 사용 가능\n",
    "    # [ Assert ]\n",
    "    assert my_fruit in fruit_basket\n",
    "\n",
    "def test_my_fruit_in_basket_other(my_fruit, fruit_basket):  # fixture 재사용 가능\n",
    "    # [ Assert ]\n",
    "    assert my_fruit in fruit_basket\n",
    "# [ Cleanup ]"
   ]
  },
  {
   "cell_type": "markdown",
   "metadata": {},
   "source": [
    "### Fixture 범위\n",
    "\n",
    "Fixture 반환 인스턴스의 생명 주기 선택 가능\n",
    "\n",
    "종류\n",
    "- function : 테스트 종료 후 파괴\n",
    "- class : 클래스 마지막 테스트 종료 후 파괴\n",
    "- module : 모듈 마지막 테스트 종료 후 파괴\n",
    "- package : 패키지 마지막 테스트 종료 후 파괴\n",
    "- session : 전체 테스트 종료 후 파괴"
   ]
  },
  {
   "cell_type": "code",
   "execution_count": null,
   "metadata": {},
   "outputs": [],
   "source": [
    "# [ Function 수준 ] Pass"
   ]
  },
  {
   "cell_type": "code",
   "execution_count": null,
   "metadata": {},
   "outputs": [],
   "source": [
    "# [ Class 수준 ]\n",
    "\n",
    "@pytest.fixture\n",
    "def order():\n",
    "    return []\n",
    "\n",
    "@pytest.fixture\n",
    "def outer(order, inner):\n",
    "    order.append(\"outer\")\n",
    "\n",
    "@pytest.fixture(scope=\"class\")  # 여기\n",
    "def inner(order):\n",
    "    order.append(\"one\")\n",
    "\n",
    "class TestOne:\n",
    "    @pytest.fixture  # 또는 클래스 내에 정의하여\n",
    "    def inner(self, order):\n",
    "        order.append(\"one\")\n",
    "\n",
    "    def test_order(self, order, outer):\n",
    "        assert order == [\"one\", \"outer\"]\n"
   ]
  },
  {
   "cell_type": "code",
   "execution_count": null,
   "metadata": {},
   "outputs": [],
   "source": [
    "# [ Module 수준 ]\n",
    "\n",
    "@pytest.fixture(scope=\"module\")\n",
    "def smtp_connection():\n",
    "    return smtplib.SMTP(\"smtp.gmail.com\", 587, timeout=5)\n",
    "\n",
    "def test_ehlo(smtp_connection):\n",
    "    response, msg = smtp_connection.ehlo()\n",
    "    assert response == 250\n",
    "    assert b\"smtp.gmail.com\" in msg\n",
    "    assert 0\n",
    "\n",
    "def test_noop(smtp_connection):\n",
    "    response, msg = smtp_connection.noop()\n",
    "    assert response == 250\n",
    "    assert 0"
   ]
  },
  {
   "cell_type": "code",
   "execution_count": null,
   "metadata": {},
   "outputs": [],
   "source": [
    "# [ Package 수준 ]\n",
    "\n",
    "# 패키지 내에 conftest.py를 정의하면\n",
    "# 해당 내부에 정의된 모든 fixture가 패키지 내부에서 활용 가능"
   ]
  },
  {
   "cell_type": "code",
   "execution_count": null,
   "metadata": {},
   "outputs": [],
   "source": [
    "# [ Session 수준 ]\n",
    "\n",
    "@pytest.fixture(scope=\"session\")\n",
    "def order():\n",
    "    return []"
   ]
  },
  {
   "cell_type": "markdown",
   "metadata": {},
   "source": [
    "### Autouse\n",
    "\n",
    "인자로 넣어야 픽스쳐가 호출되는데, 매번 넣기 귀찮고 그래도 호출은 되어야 하는데 어쩌냐? => autouse"
   ]
  },
  {
   "cell_type": "code",
   "execution_count": null,
   "metadata": {},
   "outputs": [],
   "source": [
    "@pytest.fixture\n",
    "def first_entry():\n",
    "    return \"a\"\n",
    "\n",
    "@pytest.fixture\n",
    "def order(first_entry):\n",
    "    return []\n",
    "\n",
    "@pytest.fixture(autouse=True)  # 여기\n",
    "def append_first(order, first_entry):\n",
    "    return order.append(first_entry)\n",
    "\n",
    "# 아래의 두 테스트에서 append_first를 호출하지 않았더라도 자동으로 호출됨\n",
    "def test_string_only(order, first_entry):\n",
    "    assert order == [first_entry]\n",
    "\n",
    "def test_string_and_int(order, first_entry):\n",
    "    order.append(2)\n",
    "    assert order == [first_entry, 2]"
   ]
  },
  {
   "cell_type": "code",
   "execution_count": null,
   "metadata": {},
   "outputs": [],
   "source": [
    "class TestLandingPageSuccess:\n",
    "    # 이렇게 씀으로써 하위 타 테스트 이전에 assert를 수행\n",
    "    @pytest.fixture(scope=\"class\", autouse=True)\n",
    "    def login(self, driver, base_url, user):\n",
    "        driver.get(urljoin(base_url, \"/login\"))\n",
    "        page = LoginPage(driver)\n",
    "        page.login(user)\n",
    "\n",
    "    def test_name_in_header(self, landing_page, user):\n",
    "        assert landing_page.header == f\"Welcome, {user.name}!\"\n",
    "\n",
    "    def test_sign_out_button(self, landing_page):\n",
    "        assert landing_page.sign_out_button.is_displayed()\n",
    "\n",
    "    def test_profile_link(self, landing_page, user):\n",
    "        profile_href = urljoin(base_url, f\"/profile?id={user.profile_id}\")\n",
    "        assert landing_page.profile_link.get_attribute(\"href\") == profile_href"
   ]
  },
  {
   "cell_type": "markdown",
   "metadata": {},
   "source": [
    "### Fixture의 실행 순서\n",
    "\n",
    "session -> package -> module -> class -> function 순서로 fixture가 실행됨"
   ]
  },
  {
   "cell_type": "markdown",
   "metadata": {},
   "source": [
    "### 테스트 컨텍스트\n",
    "\n",
    "테스트 중에 생겨난 뒤처리 어쩔겨? yield로 하세요"
   ]
  },
  {
   "cell_type": "code",
   "execution_count": null,
   "metadata": {},
   "outputs": [],
   "source": [
    "import pytest\n",
    "\n",
    "from emaillib import Email, MailAdminClient\n",
    "\n",
    "\n",
    "@pytest.fixture\n",
    "def mail_admin():\n",
    "    return MailAdminClient()\n",
    "\n",
    "\n",
    "@pytest.fixture\n",
    "def sending_user(mail_admin):\n",
    "    user = mail_admin.create_user()\n",
    "    yield user\n",
    "    mail_admin.delete_user(user)\n",
    "\n",
    "\n",
    "@pytest.fixture\n",
    "def receiving_user(mail_admin):\n",
    "    user = mail_admin.create_user()\n",
    "    yield user\n",
    "    mail_admin.delete_user(user)\n",
    "\n",
    "\n",
    "def test_email_received(receiving_user, sending_user):\n",
    "    email = Email(subject=\"Hey!\", body=\"How's it going?\")\n",
    "    sending_user.send_email(email, receiving_user)\n",
    "    assert email in receiving_user.inbox\n"
   ]
  },
  {
   "cell_type": "markdown",
   "metadata": {},
   "source": [
    "### 픽스쳐 정의의 올바른 방식\n",
    "\n",
    "기능별로 분리해서 사용하세요"
   ]
  },
  {
   "cell_type": "code",
   "execution_count": null,
   "metadata": {},
   "outputs": [],
   "source": [
    "from uuid import uuid4\n",
    "from urllib.parse import urljoin\n",
    "\n",
    "from selenium.webdriver import Chrome\n",
    "import pytest\n",
    "\n",
    "from src.utils.pages import LoginPage, LandingPage\n",
    "from src.utils import AdminApiClient\n",
    "from src.utils.data_types import User\n",
    "\n",
    "\n",
    "@pytest.fixture\n",
    "def admin_client(base_url, admin_credentials):\n",
    "    return AdminApiClient(base_url, **admin_credentials)\n",
    "\n",
    "\n",
    "@pytest.fixture\n",
    "def user(admin_client):\n",
    "    _user = User(name=\"Susan\", username=f\"testuser-{uuid4()}\", password=\"P4$$word\")\n",
    "    admin_client.create_user(_user)\n",
    "    yield _user\n",
    "    admin_client.delete_user(_user)\n",
    "\n",
    "\n",
    "@pytest.fixture\n",
    "def driver():\n",
    "    _driver = Chrome()\n",
    "    yield _driver\n",
    "    _driver.quit()\n",
    "\n",
    "\n",
    "@pytest.fixture\n",
    "def login(driver, base_url, user):\n",
    "    driver.get(urljoin(base_url, \"/login\"))\n",
    "    page = LoginPage(driver)\n",
    "    page.login(user)\n",
    "\n",
    "\n",
    "@pytest.fixture\n",
    "def landing_page(driver, login):\n",
    "    return LandingPage(driver)\n",
    "\n",
    "\n",
    "def test_name_on_landing_page_after_login(landing_page, user):\n",
    "    assert landing_page.header == f\"Welcome, {user.name}!\""
   ]
  },
  {
   "cell_type": "markdown",
   "metadata": {},
   "source": [
    "### 픽스쳐 여러개 만들기"
   ]
  },
  {
   "cell_type": "code",
   "execution_count": null,
   "metadata": {},
   "outputs": [],
   "source": [
    "@pytest.fixture(params=[1, 2, 3])\n",
    "def make_double_value(request):\n",
    "    return (request.param, request.param * 2)\n",
    "\n",
    "\n",
    "def test_double_value(make_double_value):\n",
    "    assert make_double_value[1] == (make_double_value[0] * 2 + 1)"
   ]
  },
  {
   "cell_type": "markdown",
   "metadata": {},
   "source": [
    "### 여기부터 이해가 어렵다\n",
    "\n",
    "https://docs.pytest.org/en/6.2.x/fixture.html#fixtures-can-introspect-the-requesting-test-context"
   ]
  }
 ],
 "metadata": {
  "interpreter": {
   "hash": "d849309ea322bb2b09973651a5ddf896b15f8e040a48382c8f8194d50f0f0881"
  },
  "kernelspec": {
   "display_name": "Python 3.10.1 64-bit ('pydamain': conda)",
   "language": "python",
   "name": "python3"
  },
  "language_info": {
   "name": "python",
   "version": "3.10.1"
  },
  "orig_nbformat": 4
 },
 "nbformat": 4,
 "nbformat_minor": 2
}
