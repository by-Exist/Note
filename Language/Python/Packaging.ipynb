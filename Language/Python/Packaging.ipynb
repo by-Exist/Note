{
 "cells": [
  {
   "cell_type": "markdown",
   "metadata": {},
   "source": [
    "# [Python Project Packaging](https://packaging.python.org/en/latest/tutorials/packaging-projects/)"
   ]
  },
  {
   "cell_type": "markdown",
   "metadata": {},
   "source": [
    "---"
   ]
  },
  {
   "cell_type": "markdown",
   "metadata": {},
   "source": [
    "## pip 업그레이드"
   ]
  },
  {
   "cell_type": "markdown",
   "metadata": {},
   "source": [
    "```cmd\n",
    "pip install --upgrade pip\n",
    "```"
   ]
  },
  {
   "cell_type": "markdown",
   "metadata": {},
   "source": [
    "---"
   ]
  },
  {
   "cell_type": "markdown",
   "metadata": {},
   "source": [
    "## 패키지 구조"
   ]
  },
  {
   "cell_type": "markdown",
   "metadata": {},
   "source": [
    "```\n",
    "packaging_tutorial/\n",
    "├── LICENSE\n",
    "├── pyproject.toml\n",
    "├── README.md\n",
    "├── setup.cfg\n",
    "├── src/\n",
    "│   └── example_package/\n",
    "│       ├── __init__.py\n",
    "│       └── example.py\n",
    "└── tests/\n",
    "```"
   ]
  },
  {
   "cell_type": "markdown",
   "metadata": {},
   "source": [
    "### LICENSE\n",
    "\n",
    "[여기](https://choosealicense.com/)에서 사용할 것 골라서 텍스트로 저장"
   ]
  },
  {
   "cell_type": "markdown",
   "metadata": {},
   "source": [
    "### pyproject.toml - 빌드 의존성\n",
    "\n",
    "왠만하면 그대로 쓰임\n",
    "\n",
    "```\n",
    "[build-system]\n",
    "\n",
    "requires = [\n",
    "    # build 필요한 패키지 목록\n",
    "    \"setuptools>=42\",\n",
    "    \"wheel\"\n",
    "]\n",
    "\n",
    "# build를 수행하는 python 객체명\n",
    "build-backend = \"setuptools.build_meta\"\n",
    "```"
   ]
  },
  {
   "cell_type": "markdown",
   "metadata": {},
   "source": [
    "### README.md - 패키지에 대한 설명\n",
    "\n",
    "setup.cfg의 long_description에서 사용되는 마크다운 문서"
   ]
  },
  {
   "cell_type": "markdown",
   "metadata": {},
   "source": [
    "### setup.cfg - 패키지 메타데이터\n",
    "\n",
    "setup.cfg(정적)를 사용하는 방식과 setup.py(동적)를 사용하는 방식이 있으며 전자 사용이 권장됨\n",
    "\n",
    "```\n",
    "[metadata]\n",
    "name = example-package-YOUR-USERNAME-HERE\n",
    "version = 0.0.1\n",
    "author = Example Author\n",
    "author_email = author@example.com\n",
    "description = A small example package\n",
    "long_description = file: README.md\n",
    "long_description_content_type = text/markdown\n",
    "url = https://github.com/pypa/sampleproject\n",
    "project_urls =\n",
    "    Bug Tracker = https://github.com/pypa/sampleproject/issues\n",
    "classifiers =\n",
    "    Programming Language :: Python :: 3\n",
    "    License :: OSI Approved :: MIT License\n",
    "    Operating System :: OS Independent\n",
    "\n",
    "[options]\n",
    "package_dir =\n",
    "    = src\n",
    "packages = find:\n",
    "python_requires = >=3.6\n",
    "\n",
    "[options.packages.find]\n",
    "where = src\n",
    "```"
   ]
  },
  {
   "cell_type": "markdown",
   "metadata": {},
   "source": [
    "---"
   ]
  },
  {
   "cell_type": "markdown",
   "metadata": {},
   "source": [
    "## 아카이브 생성 및 업로드"
   ]
  },
  {
   "cell_type": "markdown",
   "metadata": {},
   "source": [
    "### 아카이브 생성\n",
    "\n",
    "pyproject.toml 경로로 이동 후\n",
    "\n",
    "```cmd\n",
    "python3 -m pip install --upgrade build\n",
    "python3 -m build\n",
    "```\n",
    "\n",
    "dist/ 디렉토리가 생성되고 소스코드가 내부에 포함됨"
   ]
  },
  {
   "cell_type": "markdown",
   "metadata": {},
   "source": [
    "### 아카이브 업로드 (테스트)\n",
    "\n",
    "```cmd\n",
    "python3 -m pip install --upgrade twine\n",
    "python3 -m twine upload --repository testpypi dist/*\n",
    "pypi 사용자명 비밀번호 입력 (이름은 __token__, 비밀번호는 pypi-*)\n",
    "```\n",
    "\n",
    "[TestPypi](https://test.pypi.org/)에서 패키지 업로드 확인 가능"
   ]
  },
  {
   "cell_type": "markdown",
   "metadata": {},
   "source": [
    "### 아카이브 패키지 설치 (테스트)\n",
    "\n",
    "```\n",
    "python3 -m pip install --index-url https://test.pypi.org/simple/ --no-deps example-package-YOUR-USERNAME-HERE\n",
    "```\n",
    "\n",
    "--index-url로 TestPypi 경로 지정, --no-deps는 TestPypi에 없을 수 있는 의존성 다운 안하도록 설정\n"
   ]
  },
  {
   "cell_type": "markdown",
   "metadata": {},
   "source": [
    "### [Pypi](https://pypi.org)에 업로드 하려면?\n",
    "\n",
    "- Pypi에 없는 패키지 이름을 사용하기 (검색해보고 없으면 사용)\n",
    "    - 이 때는 TestPypi가 아니니 YOUR-USERNAME-HERE을 붙일 필요 없음\n",
    "- Pypi[https://pypi.org]에 계정 가입하기\n",
    "    - 패키지 업로드 시 해당 계정 사용됨"
   ]
  }
 ],
 "metadata": {
  "language_info": {
   "name": "python"
  },
  "orig_nbformat": 4
 },
 "nbformat": 4,
 "nbformat_minor": 2
}
